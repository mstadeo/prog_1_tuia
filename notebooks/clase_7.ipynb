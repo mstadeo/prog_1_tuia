{
 "cells": [
  {
   "cell_type": "markdown",
   "id": "975346ff",
   "metadata": {},
   "source": [
    "## Clase 7"
   ]
  },
  {
   "cell_type": "markdown",
   "id": "7df6065a",
   "metadata": {},
   "source": [
    "### Ejercicios Práctica 5"
   ]
  },
  {
   "cell_type": "markdown",
   "id": "62ce5593",
   "metadata": {},
   "source": [
    "#### Listas"
   ]
  },
  {
   "cell_type": "markdown",
   "id": "6df460bc",
   "metadata": {},
   "source": [
    "1. Escriba un programa que dada una lista de números calcule la suma acumulada de sus elementos. Es decir, una nueva lista donde el primer elemento es el mismo que en la lista original, el segundo elemento es la suma del primer y segundo elemento de la lista original, el tercer elemento es la suma del resultado anterior con el tercer elemento de la lista original y así sucesivamente. Por ejemplo, dada la lista [1, 2, 3], la suma acumulada debería ser [1, 3, 6]."
   ]
  },
  {
   "cell_type": "code",
   "execution_count": null,
   "id": "a3188b2b",
   "metadata": {},
   "outputs": [],
   "source": []
  },
  {
   "cell_type": "markdown",
   "id": "a1864932",
   "metadata": {},
   "source": [
    "2. Genere una lista llamada datosPersonales, mediante el uso de un bucle while que pida al usuario los siguientes datos: Nombre, Apellido, Localidad, Edad, DNI, Carrera en curso (en esta última ingrese: Tecnicatura). Y luego imprima por pantalla la lista con los datos completados. (Ingrese las palabras como cadenas y los números como enteros)"
   ]
  },
  {
   "cell_type": "code",
   "execution_count": null,
   "id": "b10ac448",
   "metadata": {},
   "outputs": [],
   "source": []
  },
  {
   "cell_type": "markdown",
   "id": "456b45e4",
   "metadata": {},
   "source": [
    "3. A partir de la lista del ejercicio anterior, genere un programa que calcule el año de nacimiento de la persona y lo agregue como un dato más a la lista. Finalmente, imprima el nombre, el apellido y año de nacimiento de la persona a partir del uso de índice o indexación para cada elemento y de manera concatenada, en una cadena que puede incluir otras palabras para dar formato a la frase."
   ]
  },
  {
   "cell_type": "code",
   "execution_count": null,
   "id": "83787f08",
   "metadata": {},
   "outputs": [],
   "source": []
  },
  {
   "cell_type": "markdown",
   "id": "571681d6",
   "metadata": {},
   "source": [
    "4. Tomando la lista del ejercicio anterior y la de sus 3 compañeros más proximos, genere una lista base- atos. Que contenga en su interior las 4 listas de datos personales. Luego, implemente un programa ue imprima los datos personales de cada persona."
   ]
  },
  {
   "cell_type": "code",
   "execution_count": null,
   "id": "09e896e8",
   "metadata": {},
   "outputs": [],
   "source": []
  },
  {
   "cell_type": "markdown",
   "id": "18adbeee",
   "metadata": {},
   "source": [
    "#### Tuplas"
   ]
  },
  {
   "cell_type": "markdown",
   "id": "4d21ec8a",
   "metadata": {},
   "source": [
    "5. Dada una lista de tuplas donde el elemento en la posición 0 es el DNI de la persona y en la posición 1 es el ingreso, identificar todas las personas cuyo ingreso es:\n",
    "    \n",
    "    <dl>\n",
    "    <dd>a. Menor que el salario mínimo, vital y móvil (SMVM)</dd>\n",
    "    <dd>b. Entre un SMVM y dos SMVM</dd>\n",
    "    <dd>c. Entre dos SMVM y 4 SMVM</dd>\n",
    "    <dd>d. Mayor a 4 SMVM</dd>\n",
    "    </dl>\n",
    " \n",
    "    Crear una lista de tuplas donde el primer elemento indica el rango de ingresos y el segundo elemento\n",
    "    la cantidad de personas en ese segmento"
   ]
  },
  {
   "cell_type": "code",
   "execution_count": null,
   "id": "59efeff6",
   "metadata": {},
   "outputs": [],
   "source": []
  },
  {
   "cell_type": "markdown",
   "id": "b133b714",
   "metadata": {},
   "source": [
    "6. Cartas como tuplas.\n",
    "<dl>\n",
    "<dd>a. Proponer una representación con tuplas para las cartas de la baraja francesa.</dd>\n",
    "<dd>b. Escribir un programa de poker que reciba cinco cartas de la baraja francesa e informe (devuelva\n",
    "el valor lógico correspondiente) si esas cartas forman o no un poker (es decir que hay 4 cartas con\n",
    "el mismo número).</dd>\n",
    "</dl>"
   ]
  },
  {
   "cell_type": "code",
   "execution_count": null,
   "id": "052caca3",
   "metadata": {},
   "outputs": [],
   "source": []
  },
  {
   "cell_type": "markdown",
   "id": "806981fb",
   "metadata": {},
   "source": [
    "#### Diccionarios"
   ]
  },
  {
   "cell_type": "markdown",
   "id": "eea999dc",
   "metadata": {},
   "source": [
    "<dl>\n",
    "<dd>\n",
    "7. Escribir un programa que recibe un diccionario que tiene como llave a alumnos y los valores asociados una lista con las notas de parciales de los alumnos. El programa debe calcular el promedio de cada alumno e imprimirlo en pantalla. Por ejemplo para \n",
    "    \n",
    "    alumnos = { \" Juan \" : [6 ,9 ,8] , \" Manuel \" : [9 ,10 ,9] , \" Martin \" : [5 ,6 ,7]}\n",
    "\n",
    "\n",
    "Debería mostrar:\n",
    "<dd>El promedio de Juan es 7.666666</dd>\n",
    "<dd>El promedio de Manuel es 9.333333</dd>\n",
    "<dd>El promedio de Martin es 6</dd>\n",
    "    \n",
    "</dd>\n",
    "</dl>"
   ]
  },
  {
   "cell_type": "code",
   "execution_count": null,
   "id": "77a04057",
   "metadata": {},
   "outputs": [],
   "source": []
  }
 ],
 "metadata": {
  "kernelspec": {
   "display_name": "tuia",
   "language": "python",
   "name": "tuia"
  },
  "language_info": {
   "codemirror_mode": {
    "name": "ipython",
    "version": 3
   },
   "file_extension": ".py",
   "mimetype": "text/x-python",
   "name": "python",
   "nbconvert_exporter": "python",
   "pygments_lexer": "ipython3",
   "version": "3.8.10"
  }
 },
 "nbformat": 4,
 "nbformat_minor": 5
}
