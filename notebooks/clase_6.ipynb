{
 "cells": [
  {
   "cell_type": "markdown",
   "id": "e9536951",
   "metadata": {},
   "source": [
    "### Clase 6\n",
    "Hoy vamos a centrarnos en resolver ejercicios que aparecerán en la práctica 4"
   ]
  },
  {
   "cell_type": "markdown",
   "id": "4bb2ef27",
   "metadata": {},
   "source": [
    "### Ejercicios"
   ]
  },
  {
   "cell_type": "markdown",
   "id": "67a29374",
   "metadata": {},
   "source": [
    "Imprima los números de -10 a -1 utilizando un bucle for"
   ]
  },
  {
   "cell_type": "code",
   "execution_count": 7,
   "id": "7e2c5706",
   "metadata": {},
   "outputs": [
    {
     "name": "stdout",
     "output_type": "stream",
     "text": [
      "-1\n",
      "-2\n",
      "-3\n",
      "-4\n",
      "-5\n",
      "-6\n",
      "-7\n",
      "-8\n",
      "-9\n",
      "-10\n"
     ]
    }
   ],
   "source": [
    "for i in range(-1, -11, -1):\n",
    "    print(i)"
   ]
  },
  {
   "cell_type": "markdown",
   "id": "56c7c894",
   "metadata": {},
   "source": [
    "Dada la siguiente lista imprimir los números divisibles por 5 menores a 150.\n",
    "\n",
    "    numeros = [12 , 75 , 150 , 180 , 145 , 525 , 50]\n"
   ]
  },
  {
   "cell_type": "code",
   "execution_count": 10,
   "id": "a3b80ce7",
   "metadata": {},
   "outputs": [
    {
     "name": "stdout",
     "output_type": "stream",
     "text": [
      "75\n",
      "145\n",
      "50\n"
     ]
    }
   ],
   "source": [
    "numeros = [12 , 75 , 150 , 180 , 145 , 525 , 50]\n",
    "for objeto in numeros:\n",
    "    if (objeto<150) and (objeto%5  == 0):\n",
    "        print(objeto)"
   ]
  },
  {
   "cell_type": "markdown",
   "id": "c4d1d174",
   "metadata": {},
   "source": [
    "La lista en el siguiente bloque de código contiene números enteros. Crear una lista para los números\n",
    "pares y otra para los números impares.\n",
    "\n",
    "    numeros = [3 , 5 , 2 , 9 , 2 , 6 , 6 , 4 , 3 , 9 , 6 , 7 , 8 , 5 , 11]\n",
    "    \n",
    "Resultado esperado:\n",
    "\n",
    "    [2 , 2 , 6 , 6 , 4 , 6 , 8] # numeros pares\n",
    "    [3 , 5 , 9 , 3 , 9 , 7 , 5 , 11] # numeros impares"
   ]
  },
  {
   "cell_type": "code",
   "execution_count": 13,
   "id": "0f7878f8",
   "metadata": {},
   "outputs": [
    {
     "name": "stdout",
     "output_type": "stream",
     "text": [
      "[2, 2, 6, 6, 4, 6, 8]\n",
      "[3, 5, 9, 3, 9, 7, 5, 11]\n"
     ]
    }
   ],
   "source": [
    "numeros = [3 , 5 , 2 , 9 , 2 , 6 , 6 , 4 , 3 , 9 , 6 , 7 , 8 , 5 , 11]\n",
    "pares = []\n",
    "impares = []\n",
    "for elemento in numeros:\n",
    "    if elemento%2 == 0:\n",
    "        pares.append(elemento)\n",
    "    else:\n",
    "        impares.append(elemento)\n",
    "print(pares)\n",
    "print(impares)"
   ]
  },
  {
   "cell_type": "markdown",
   "id": "efce3249",
   "metadata": {},
   "source": [
    "Calcular el cuadrado de los primeros 10 números enteros y guardarlos en una lista."
   ]
  },
  {
   "cell_type": "code",
   "execution_count": 15,
   "id": "a8b7197e",
   "metadata": {},
   "outputs": [
    {
     "name": "stdout",
     "output_type": "stream",
     "text": [
      "[1, 4, 9, 16, 25, 36, 49, 64, 81, 100]\n"
     ]
    }
   ],
   "source": [
    "lista = []\n",
    "for i in range(1, 11):\n",
    "    lista.append(i**2)\n",
    "print(lista)"
   ]
  },
  {
   "cell_type": "markdown",
   "id": "5c1a7fb7",
   "metadata": {},
   "source": [
    "Escriba un programa que dada una lista de números y un valor de umbral vaya sumando los números\n",
    "de la lista hasta que la suma alcance el umbral. Utilice un bucle while y el metodo .pop(0) para\n",
    "seleccionar al primer elemento de la lista. Utilice break para terminar la ejecución del bucle cuando la\n",
    "suma alcance el umbral.\n",
    "\n",
    "Resultados esperados:\n",
    "    \n",
    "    umbral = 20\n",
    "    valores = [3 , 5 , 4 , 4 , 5 , 5 , 3 , 5 , 2 , 7] # suma -> 21\n",
    "    \n",
    "    umbral = 34\n",
    "    valores = [3 , 5 , 4 , 4 , 5 , 5 , 3 , 5 , 2 , 7] # suma -> 34\n",
    "    \n",
    "    umbral = 100\n",
    "    valores = [3 , 5 , 4 , 4 , 5 , 5 , 3 , 5 , 2 , 7] # suma -> 43"
   ]
  },
  {
   "cell_type": "code",
   "execution_count": 32,
   "id": "95475771",
   "metadata": {},
   "outputs": [
    {
     "name": "stdout",
     "output_type": "stream",
     "text": [
      "43\n"
     ]
    }
   ],
   "source": [
    "# umbral = 20\n",
    "# valores = [3 , 5 , 4 , 4 , 5 , 5 , 3 , 5 , 2 , 7]\n",
    "\n",
    "# umbral = 34\n",
    "# valores = [3 , 5 , 4 , 4 , 5 , 5 , 3 , 5 , 2 , 7] # suma -> 34\n",
    "\n",
    "umbral = 100\n",
    "valores = [3 , 5 , 4 , 4 , 5 , 5 , 3 , 5 , 2 , 7] # suma -> 43\n",
    "\n",
    "suma = 0\n",
    "for i in valores:\n",
    "    suma+=i\n",
    "    if suma >= umbral:\n",
    "        break\n",
    "print(suma)"
   ]
  },
  {
   "cell_type": "markdown",
   "id": "38b1cd6d",
   "metadata": {},
   "source": [
    "Escriba un programa que dada una lista numérica compute la suma de los números pares. Utilice un\n",
    "bucle while y la sentencia continue para saltear los casos donde el número no sea par.\n",
    "Resultados esperados:\n",
    "    \n",
    "    valores = [1 , 2 , 3 , 4 , 5 , 6 , 7 , 8 , 9 , 10] # suma -> 30\n",
    "    \n",
    "    valores = [1 , 4 , 7 , 10] # suma -> 14"
   ]
  },
  {
   "cell_type": "code",
   "execution_count": 40,
   "id": "35dcd243",
   "metadata": {},
   "outputs": [
    {
     "name": "stdout",
     "output_type": "stream",
     "text": [
      "30\n"
     ]
    }
   ],
   "source": [
    "valores = [1 , 2 , 3 , 4 , 5 , 6 , 7 , 8 , 9 , 10]\n",
    "suma = 0\n",
    "for i in valores:\n",
    "    while i%2 == 0:\n",
    "        suma += i\n",
    "        break\n",
    "#     continue\n",
    "print(suma)"
   ]
  },
  {
   "cell_type": "markdown",
   "id": "32d64a6c",
   "metadata": {},
   "source": [
    "Dada la siguiente lista de palabras\n",
    "\n",
    "    palabras = [\n",
    "    \" C ó ncavo \" , \" Autopista \" , \" Diagonal \" , \" Equipaje \" , \" Ardilla \" ,\n",
    "    \" Consultorio \" , \" Roma \" , \" Loco \" , \" Marciano \" , \" Karateca \" ,\n",
    "    \" Aniversario \" , \" Topadora \" , \" Grabador \" , \" Salir \" , \" Ventoso \" ,\n",
    "    \" Anunciar \" ,\" R ó tula \" , \" Estanque \" , \" Quedarse \" , \" Nuevo \" ,\n",
    "    \" Sordo \" , \" Madurar \" , \" Vestir \" , \" Retoque \" , \" Desvelo \" , \" Hora \" ,\n",
    "    \" Cochera \" , \" Metal \" , \" Nudo \" , \" Maquillaje \" , \" Barco \" , \" Soda \" ,\n",
    "    \" Lagartija \"\n",
    "    ]\n",
    "    \n",
    "1. ¿Cuántas palabras hay en total?\n",
    "2. ¿Cuántas empiezan con ’A’ ?\n",
    "3. ¿Cuántas terminan con ’o’ ?\n",
    "4. ¿Cuántas empiezan con alguna vocal?\n",
    "5. ¿Cuántas terminan con alguna consonante?\n",
    "6. Seleccionar la última palabra que empiece con una consonante."
   ]
  },
  {
   "cell_type": "code",
   "execution_count": 50,
   "id": "70a3643c",
   "metadata": {},
   "outputs": [],
   "source": [
    "palabras = [\n",
    "\" Cóncavo \" , \"Autopista\" , \"Diagonal\" , \"Equipaje\" , \"Ardilla\" ,\n",
    "\"Consultorio\" , \"Roma\" , \"Loco\" , \"Marciano\" , \"Karateca\" ,\n",
    "\"Aniversario\" , \"Topadora\" , \"Grabador\" , \"Salir\" , \"Ventoso\" ,\n",
    "\"Anunciar\" ,\"Rótula\" , \"Estanque\" , \"Quedarse\" , \"Nuevo\" ,\n",
    "\"Sordo\" , \"Madurar\" , \"Vestir\" , \"Retoque\" , \"Desvelo\" , \"Hora\" ,\n",
    "\"Cochera\" , \"Metal\" , \"Nudo\" , \"Maquillaje\" , \"Barco\" , \"Soda\" ,\n",
    "\"Lagartija\"\n",
    "]"
   ]
  },
  {
   "cell_type": "code",
   "execution_count": 51,
   "id": "1632c745",
   "metadata": {},
   "outputs": [
    {
     "name": "stdout",
     "output_type": "stream",
     "text": [
      "33\n"
     ]
    }
   ],
   "source": [
    "cont = 0\n",
    "for i in palabras:\n",
    "    cont =  cont + 1\n",
    "print(cont)"
   ]
  },
  {
   "cell_type": "code",
   "execution_count": 52,
   "id": "c79f53f0",
   "metadata": {},
   "outputs": [
    {
     "name": "stdout",
     "output_type": "stream",
     "text": [
      "4\n"
     ]
    }
   ],
   "source": [
    "cont = 0\n",
    "for i in palabras:\n",
    "    if i[0] == 'A':\n",
    "        cont += 1\n",
    "print(cont)"
   ]
  },
  {
   "cell_type": "code",
   "execution_count": 53,
   "id": "ef7731ba",
   "metadata": {},
   "outputs": [
    {
     "name": "stdout",
     "output_type": "stream",
     "text": [
      "10\n"
     ]
    }
   ],
   "source": [
    "cont = 0\n",
    "for i in palabras:\n",
    "    if i[-1] == 'o':\n",
    "        cont += 1\n",
    "print(cont)"
   ]
  },
  {
   "cell_type": "code",
   "execution_count": 56,
   "id": "02ecff1c",
   "metadata": {},
   "outputs": [
    {
     "name": "stdout",
     "output_type": "stream",
     "text": [
      "6\n"
     ]
    }
   ],
   "source": [
    "cont = 0\n",
    "for i in palabras:\n",
    "    if (i[0] == 'a') or (i[0] == 'e') or (i[0] == 'i') or (i[0] == 'o') or (i[0] == 'u') or \\\n",
    "    (i[0] == 'A') or (i[0] == 'E') or (i[0] == 'I') or (i[0] == 'O') or (i[0] == 'U'):\n",
    "        cont += 1\n",
    "print(cont)"
   ]
  },
  {
   "cell_type": "code",
   "execution_count": 58,
   "id": "258e4e1b",
   "metadata": {},
   "outputs": [
    {
     "name": "stdout",
     "output_type": "stream",
     "text": [
      "8\n"
     ]
    }
   ],
   "source": [
    "cont = 0\n",
    "for i in palabras:\n",
    "    if (i[-1] != 'a') and (i[-1] != 'e') and (i[-1] != 'i') and (i[-1] != 'o') and (i[-1] != 'u') and \\\n",
    "        (i[-1] != 'A') and (i[-1] != 'E') and (i[-1] != 'I') and (i[-1] != 'O') and (i[-1] != 'U'):\n",
    "        cont += 1\n",
    "print(cont)"
   ]
  },
  {
   "cell_type": "code",
   "execution_count": 59,
   "id": "253f6566",
   "metadata": {},
   "outputs": [
    {
     "name": "stdout",
     "output_type": "stream",
     "text": [
      "Lagartija\n"
     ]
    }
   ],
   "source": [
    "la_ultima_consonante = ''\n",
    "for i in palabras:\n",
    "    if (i[0] != 'a') and (i[0] != 'e') and (i[0] != 'i') and (i[0] != 'o') and (i[0] != 'u') and \\\n",
    "        (i[0] != 'A') and (i[0] != 'E') and (i[0] != 'I') and (i[0] != 'O') and (i[0] != 'U'):\n",
    "        la_ultima_consonante = i\n",
    "print(la_ultima_consonante)"
   ]
  },
  {
   "cell_type": "code",
   "execution_count": null,
   "id": "751bd178",
   "metadata": {},
   "outputs": [],
   "source": []
  }
 ],
 "metadata": {
  "kernelspec": {
   "display_name": "tuia",
   "language": "python",
   "name": "tuia"
  },
  "language_info": {
   "codemirror_mode": {
    "name": "ipython",
    "version": 3
   },
   "file_extension": ".py",
   "mimetype": "text/x-python",
   "name": "python",
   "nbconvert_exporter": "python",
   "pygments_lexer": "ipython3",
   "version": "3.8.10"
  }
 },
 "nbformat": 4,
 "nbformat_minor": 5
}
