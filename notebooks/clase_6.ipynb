{
 "cells": [
  {
   "cell_type": "markdown",
   "id": "e9536951",
   "metadata": {},
   "source": [
    "### Clase 6\n",
    "Hoy vamos a centrarnos en resolver ejercicios que aparecerán en la práctica 4"
   ]
  },
  {
   "cell_type": "markdown",
   "id": "4bb2ef27",
   "metadata": {},
   "source": [
    "### Ejercicios"
   ]
  },
  {
   "cell_type": "markdown",
   "id": "67a29374",
   "metadata": {},
   "source": [
    "1. Imprima los números de -10 a -1 utilizando un bucle for"
   ]
  },
  {
   "cell_type": "markdown",
   "id": "56c7c894",
   "metadata": {},
   "source": [
    "2. Dada la siguiente lista imprimir los números divisibles por 5 menores a 150.\n",
    "\n",
    "    numeros = [12 , 75 , 150 , 180 , 145 , 525 , 50]\n"
   ]
  },
  {
   "cell_type": "markdown",
   "id": "c4d1d174",
   "metadata": {},
   "source": [
    "3. La lista en el siguiente bloque de código contiene números enteros. Crear una lista para los números\n",
    "pares y otra para los números impares.\n",
    "\n",
    "    numeros = [3 , 5 , 2 , 9 , 2 , 6 , 6 , 4 , 3 , 9 , 6 , 7 , 8 , 5 , 11]\n",
    "    \n",
    "Resultado esperado:\n",
    "\n",
    "    [2 , 2 , 6 , 6 , 4 , 6 , 8] # numeros pares\n",
    "    [3 , 5 , 9 , 3 , 9 , 7 , 5 , 11] # numeros impares"
   ]
  },
  {
   "cell_type": "markdown",
   "id": "a2d4a301",
   "metadata": {},
   "source": [
    "4. Repetir el ejercicio anterior pero garantizando que las listas resultantes no tengan resultados repetidos."
   ]
  },
  {
   "cell_type": "markdown",
   "id": "efce3249",
   "metadata": {},
   "source": [
    "5. Calcular el cuadrado de los primeros 10 números enteros y guardarlos en una lista."
   ]
  },
  {
   "cell_type": "markdown",
   "id": "5c1a7fb7",
   "metadata": {},
   "source": [
    "6. Escriba un programa que dada una lista de números y un valor de umbral vaya sumando los números\n",
    "de la lista hasta que la suma alcance el umbral. Utilice un bucle while y el metodo .pop(0) para\n",
    "seleccionar al primer elemento de la lista. Utilice break para terminar la ejecución del bucle cuando la\n",
    "suma alcance el umbral.\n",
    "\n",
    "Resultados esperados:\n",
    "    \n",
    "    umbral = 21\n",
    "    valores = [3 , 5 , 4 , 4 , 5 , 5 , 3 , 5 , 2 , 7] # suma -> 21\n",
    "    \n",
    "    umbral = 34\n",
    "    valores = [3 , 5 , 4 , 4 , 5 , 5 , 3 , 5 , 2 , 7] # suma -> 34\n",
    "    \n",
    "    umbral = 100\n",
    "    valores = [3 , 5 , 4 , 4 , 5 , 5 , 3 , 5 , 2 , 7] # suma -> 43"
   ]
  },
  {
   "cell_type": "markdown",
   "id": "38b1cd6d",
   "metadata": {},
   "source": [
    "7. Escriba un programa que dada una lista numérica compute la suma de los números pares. Utilice un\n",
    "bucle while y la sentencia continue para saltear los casos donde el número no sea par.\n",
    "Resultados esperados:\n",
    "    \n",
    "    valores = [1 , 2 , 3 , 4 , 5 , 6 , 7 , 8 , 9 , 10] # suma -> 30\n",
    "    \n",
    "    valores = [1 , 4 , 7 , 10] # suma -> 14"
   ]
  },
  {
   "cell_type": "markdown",
   "id": "32d64a6c",
   "metadata": {},
   "source": [
    "8. Dada la siguiente lista de palabras\n",
    "\n",
    "    palabras = [\n",
    "    \" C ó ncavo \" , \" Autopista \" , \" Diagonal \" , \" Equipaje \" , \" Ardilla \" ,\n",
    "    \" Consultorio \" , \" Roma \" , \" Loco \" , \" Marciano \" , \" Karateca \" ,\n",
    "    \" Aniversario \" , \" Topadora \" , \" Grabador \" , \" Salir \" , \" Ventoso \" ,\n",
    "    \" Anunciar \" ,\" R ó tula \" , \" Estanque \" , \" Quedarse \" , \" Nuevo \" ,\n",
    "    \" Sordo \" , \" Madurar \" , \" Vestir \" , \" Retoque \" , \" Desvelo \" , \" Hora \" ,\n",
    "    \" Cochera \" , \" Metal \" , \" Nudo \" , \" Maquillaje \" , \" Barco \" , \" Soda \" ,\n",
    "    \" Lagartija \"\n",
    "    ]\n",
    "    \n",
    "<dl>\n",
    "<dd>a. ¿Cuántas palabras hay en total?</dd>\n",
    "<dd>b. ¿Cuántas empiezan con ’A’ ?</dd>\n",
    "<dd>c. ¿Cuántas terminan con ’o’ ?</dd>\n",
    "<dd>d. ¿Cuántas empiezan con alguna vocal?</dd>\n",
    "<dd>e. ¿Cuántas terminan con alguna consonante?</dd>\n",
    "<dd>f. Seleccionar la última palabra que empiece con una consonante.</dd>\n",
    "</dl>"
   ]
  },
  {
   "cell_type": "code",
   "execution_count": null,
   "id": "aa2f3f60",
   "metadata": {},
   "outputs": [],
   "source": []
  }
 ],
 "metadata": {
  "kernelspec": {
   "display_name": "tuia",
   "language": "python",
   "name": "tuia"
  },
  "language_info": {
   "codemirror_mode": {
    "name": "ipython",
    "version": 3
   },
   "file_extension": ".py",
   "mimetype": "text/x-python",
   "name": "python",
   "nbconvert_exporter": "python",
   "pygments_lexer": "ipython3",
   "version": "3.8.10"
  }
 },
 "nbformat": 4,
 "nbformat_minor": 5
}
