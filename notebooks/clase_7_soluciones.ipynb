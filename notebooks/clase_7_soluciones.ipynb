{
 "cells": [
  {
   "cell_type": "markdown",
   "id": "1609c184",
   "metadata": {},
   "source": [
    "## Clase 7"
   ]
  },
  {
   "cell_type": "markdown",
   "id": "928f6ab5",
   "metadata": {},
   "source": [
    "### Ejercicios Práctica 5"
   ]
  },
  {
   "cell_type": "markdown",
   "id": "d955c8ae",
   "metadata": {},
   "source": [
    "#### Listas"
   ]
  },
  {
   "cell_type": "markdown",
   "id": "df40934c",
   "metadata": {},
   "source": [
    "1. Escriba un programa que dada una lista de números calcule la suma acumulada de sus elementos. Es decir, una nueva lista donde el primer elemento es el mismo que en la lista original, el segundo elemento es la suma del primer y segundo elemento de la lista original, el tercer elemento es la suma del resultado anterior con el tercer elemento de la lista original y así sucesivamente. Por ejemplo, dada la lista [1, 2, 3], la suma acumulada debería ser [1, 3, 6]."
   ]
  },
  {
   "cell_type": "code",
   "execution_count": 2,
   "id": "58d03554",
   "metadata": {},
   "outputs": [
    {
     "name": "stdout",
     "output_type": "stream",
     "text": [
      "[1, 3, 6]\n"
     ]
    }
   ],
   "source": [
    "lista =  [1, 2, 3]\n",
    "lista_nueva = []\n",
    "acum = 0\n",
    "for i in lista:\n",
    "    acum += i\n",
    "    lista_nueva.append(acum)\n",
    "print(lista_nueva)"
   ]
  },
  {
   "cell_type": "markdown",
   "id": "135d7bb3",
   "metadata": {},
   "source": [
    "2. Genere una lista llamada datosPersonales, mediante el uso de un bucle while que pida al usuario los siguientes datos: Nombre, Apellido, Localidad, Edad, DNI, Carrera en curso (en esta última ingrese: Tecnicatura). Y luego imprima por pantalla la lista con los datos completados. (Ingrese las palabras como cadenas y los números como enteros)"
   ]
  },
  {
   "cell_type": "code",
   "execution_count": 9,
   "id": "272c510b",
   "metadata": {},
   "outputs": [
    {
     "name": "stdout",
     "output_type": "stream",
     "text": [
      "Ingrese su nombre :a\n",
      "Ingrese su apellido: a\n",
      "Ingrese su localidad :a\n",
      "Ingrese su edad :33\n",
      "Ingrese su dni :d\n",
      "Ingrese su carrera en curso :d\n",
      "['a', 'a', 33, 'd', 'd']\n"
     ]
    }
   ],
   "source": [
    "nombre = input('Ingrese su nombre :')\n",
    "apellido = input('Ingrese su apellido: ')\n",
    "localidad = input('Ingrese su localidad :')\n",
    "edad = int(input('Ingrese su edad :'))\n",
    "dni = input('Ingrese su dni :')\n",
    "carrera_en_curso = input('Ingrese su carrera en curso :')\n",
    "lista = [nombre, apellido, edad, dni, carrera_en_curso]\n",
    "print(lista)"
   ]
  },
  {
   "cell_type": "markdown",
   "id": "080f7a70",
   "metadata": {},
   "source": [
    "3. A partir de la lista del ejercicio anterior, genere un programa que calcule el año de nacimiento de la persona y lo agregue como un dato más a la lista. Finalmente, imprima el nombre, el apellido y año de nacimiento de la persona a partir del uso de índice o indexación para cada elemento y de manera concatenada, en una cadena que puede incluir otras palabras para dar formato a la frase."
   ]
  },
  {
   "cell_type": "code",
   "execution_count": 15,
   "id": "34bf0733",
   "metadata": {},
   "outputs": [
    {
     "data": {
      "text/plain": [
       "'a a nació en el año 1989'"
      ]
     },
     "execution_count": 15,
     "metadata": {},
     "output_type": "execute_result"
    }
   ],
   "source": [
    "anio_actual = 2022\n",
    "anio_nacimiento = anio_actual - lista[2]\n",
    "lista.append(anio_nacimiento)\n",
    "\n",
    "lista[0]+ ' ' + lista[1] + ' nació en el año ' + str(lista[-1])"
   ]
  },
  {
   "cell_type": "markdown",
   "id": "e876129f",
   "metadata": {},
   "source": [
    "4. Tomando la lista del ejercicio anterior y la de sus 3 compañeros más proximos, genere una lista `basedatos`. Que contenga en su interior las 4 listas de datos personales. Luego, implemente un programa que imprima los datos personales de cada persona."
   ]
  },
  {
   "cell_type": "code",
   "execution_count": 17,
   "id": "af310331",
   "metadata": {},
   "outputs": [
    {
     "name": "stdout",
     "output_type": "stream",
     "text": [
      "Quiere ingresar los datos de una nueva persona (s/n): s\n",
      "Ingrese su nombre :a\n",
      "Ingrese su apellido: b\n",
      "Ingrese su localidad :c\n",
      "Ingrese su edad :33\n",
      "Ingrese su dni :4\n",
      "Ingrese su carrera en curso :t\n",
      "Quiere ingresar los datos de una nueva persona (s/n): s\n",
      "Ingrese su nombre :a\n",
      "Ingrese su apellido: b\n",
      "Ingrese su localidad :c\n",
      "Ingrese su edad :32\n",
      "Ingrese su dni :d\n",
      "Ingrese su carrera en curso :d\n",
      "Quiere ingresar los datos de una nueva persona (s/n): n\n",
      "[['a', 'b', 33, '4', 't'], ['a', 'b', 32, 'd', 'd']]\n"
     ]
    }
   ],
   "source": [
    "basedatos = []\n",
    "while True:\n",
    "    seguir = input('Quiere ingresar los datos de una nueva persona (s/n): ')\n",
    "    while not (seguir in ['n', 's']):\n",
    "        seguir = input('Solo se acepta un s o una n: ')\n",
    "    if seguir == 'n':\n",
    "        break           \n",
    "    nombre = input('Ingrese su nombre :')\n",
    "    apellido = input('Ingrese su apellido: ')\n",
    "    localidad = input('Ingrese su localidad :')\n",
    "    edad = int(input('Ingrese su edad :'))\n",
    "    dni = input('Ingrese su dni :')\n",
    "    carrera_en_curso = input('Ingrese su carrera en curso :')\n",
    "    lista = [nombre, apellido, edad, dni, carrera_en_curso]\n",
    "    basedatos.append(lista)\n",
    "\n",
    "print(basedatos)"
   ]
  },
  {
   "cell_type": "markdown",
   "id": "f4dfcc2c",
   "metadata": {},
   "source": [
    "#### Tuplas"
   ]
  },
  {
   "cell_type": "markdown",
   "id": "a0f08f05",
   "metadata": {},
   "source": [
    "5. Cartas como tuplas.\n",
    "<dl>\n",
    "<dd>a. Proponer una representación con tuplas para las cartas de la baraja francesa.</dd>\n",
    "<dd>b. Escribir un programa de poker que reciba cinco cartas de la baraja francesa e informe (devuelva\n",
    "el valor lógico correspondiente) si esas cartas forman o no un poker (es decir que hay 4 cartas con\n",
    "el mismo número).</dd>\n",
    "</dl>"
   ]
  },
  {
   "cell_type": "markdown",
   "id": "d019934b",
   "metadata": {},
   "source": [
    "Propuesta:\n",
    "- Pos 0: valor de la carta.\n",
    "- Pos 1: el palo. Corazones: C, Diamante: D, Trébol: T, Picas: P"
   ]
  },
  {
   "cell_type": "code",
   "execution_count": 40,
   "id": "1c6083fc",
   "metadata": {},
   "outputs": [
    {
     "name": "stdout",
     "output_type": "stream",
     "text": [
      "Ingrese el valor de su carta: 3\n",
      "Ingrese el palo de su carta: t\n",
      "Ingrese el valor de su carta: 4\n",
      "Ingrese el palo de su carta: t\n",
      "Ingrese el valor de su carta: 5\n",
      "Ingrese el palo de su carta: t\n",
      "Ingrese el valor de su carta: 6\n",
      "Ingrese el palo de su carta: t\n",
      "Ingrese el valor de su carta: 7\n",
      "Ingrese el palo de su carta: t\n"
     ]
    }
   ],
   "source": [
    "cartas = []\n",
    "for i in range(5):\n",
    "    valor = input('Ingrese el valor de su carta: ')\n",
    "    palo = input('Ingrese el palo de su carta: ')\n",
    "    cartas.append((valor, palo,))\n",
    "\n",
    "value_count = {}\n",
    "for carta in cartas:\n",
    "    valor = carta[0]\n",
    "    if not(valor in value_count.keys()):\n",
    "        value_count[valor] = 1\n",
    "    else: \n",
    "        value_count[valor] += 1\n",
    "for key, value in value_count.items():\n",
    "    if value == 4:\n",
    "        print('Poker')"
   ]
  },
  {
   "cell_type": "markdown",
   "id": "0f272c25",
   "metadata": {},
   "source": [
    "#### Diccionarios"
   ]
  },
  {
   "cell_type": "markdown",
   "id": "0a17a8fd",
   "metadata": {},
   "source": [
    "<dl>\n",
    "<dd>\n",
    "6. Escribir un programa que recibe un diccionario que tiene como llave a alumnos y los valores asociados una lista con las notas de parciales de los alumnos. El programa debe calcular el promedio de cada alumno e imprimirlo en pantalla. Por ejemplo para \n",
    "    \n",
    "    alumnos = { \" Juan \" : [6 ,9 ,8] , \" Manuel \" : [9 ,10 ,9] , \" Martin \" : [5 ,6 ,7]}\n",
    "\n",
    "\n",
    "Debería mostrar:\n",
    "<dd>El promedio de Juan es 7.666666</dd>\n",
    "<dd>El promedio de Manuel es 9.333333</dd>\n",
    "<dd>El promedio de Martin es 6</dd>\n",
    "    \n",
    "</dd>\n",
    "</dl>"
   ]
  },
  {
   "cell_type": "code",
   "execution_count": 51,
   "id": "2876d68a",
   "metadata": {},
   "outputs": [
    {
     "name": "stdout",
     "output_type": "stream",
     "text": [
      "El promedio de Juan es 7.666666666666667\n",
      "El promedio de Manuel es 9.333333333333334\n",
      "El promedio de Martin es 6.0\n"
     ]
    }
   ],
   "source": [
    "alumnos = { \"Juan\" : [6 ,9 ,8] , \"Manuel\" : [9 ,10 ,9] , \"Martin\" : [5 ,6 ,7]}\n",
    "for key, value in alumnos.items():\n",
    "    print('El promedio de {} es {}'.format(key, sum(value)/len(value)))"
   ]
  },
  {
   "cell_type": "code",
   "execution_count": null,
   "id": "10b395d7",
   "metadata": {},
   "outputs": [],
   "source": []
  },
  {
   "cell_type": "code",
   "execution_count": null,
   "id": "d5db8723",
   "metadata": {},
   "outputs": [],
   "source": []
  }
 ],
 "metadata": {
  "kernelspec": {
   "display_name": "tuia",
   "language": "python",
   "name": "tuia"
  },
  "language_info": {
   "codemirror_mode": {
    "name": "ipython",
    "version": 3
   },
   "file_extension": ".py",
   "mimetype": "text/x-python",
   "name": "python",
   "nbconvert_exporter": "python",
   "pygments_lexer": "ipython3",
   "version": "3.8.10"
  }
 },
 "nbformat": 4,
 "nbformat_minor": 5
}
