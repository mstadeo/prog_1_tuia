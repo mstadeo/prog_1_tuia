{
 "cells": [
  {
   "cell_type": "code",
   "execution_count": null,
   "id": "eb0d1bbc",
   "metadata": {},
   "outputs": [],
   "source": [
    "from IPython.display import display, HTML\n",
    "display(HTML('<style>.container{width:100% !important;} </style>'))"
   ]
  },
  {
   "cell_type": "markdown",
   "id": "62dad7d1",
   "metadata": {},
   "source": [
    "## Clase 5 de Programación 1\n",
    "Agenda:\n",
    "* `for` statement\n",
    "* `range()`\n",
    "* `while` statement"
   ]
  },
  {
   "cell_type": "markdown",
   "id": "02570d8d",
   "metadata": {},
   "source": [
    "### Sentencia for\n",
    "De la documentación de python\n",
    "https://docs.python.org/es/3/tutorial/controlflow.html#for-statements\n",
    "> La sentencia for de Python itera sobre los ítems de cualquier secuencia (una lista o una cadena de texto), en el orden que aparecen en la secuencia. Por ejemplo:\n"
   ]
  },
  {
   "cell_type": "code",
   "execution_count": 1,
   "id": "de7f53c5",
   "metadata": {},
   "outputs": [
    {
     "name": "stdout",
     "output_type": "stream",
     "text": [
      "gato 4\n",
      "ventana 7\n",
      "perro 5\n"
     ]
    }
   ],
   "source": [
    "palabras = ['gato', 'ventana', 'perro']\n",
    "for p in palabras:\n",
    "    print(p, len(p))"
   ]
  },
  {
   "cell_type": "code",
   "execution_count": null,
   "id": "61b287b3",
   "metadata": {},
   "outputs": [],
   "source": [
    "type(range(2))"
   ]
  },
  {
   "cell_type": "markdown",
   "id": "50972981",
   "metadata": {},
   "source": [
    "El objecto `palabras` es una lista, un objeto que aún no estudiamos. Por ahora pensemos en las listas como objetos que nos permiten guardar otros objetos dentro.\n",
    "En el código de arriba estamos usando el `for` para ir accediendo a cada una de las cadenas que están guardadas dentro de la lista `palabras`.\n",
    "Luego, cuando pudimos acceder a la `palabra`, la imprimimos y medimos su longitud con la función len() '''\n",
    "\n",
    "### Formato general\n",
    "\n",
    "`for elemento in objeto:\n",
    "    acciones a realizar en cada iteración:\n",
    "    acción 1\n",
    "    acción 2\n",
    "    ...\n",
    "    acción n\n",
    "`\n",
    "\n",
    "Pero, que significa iterar?\n",
    "En cada loop/vuelta python le va a asignar a la variable `elemento` uno a uno los objetos dentro de `objeto`.\n",
    "Luego, realizará el conjunto/bloque de acciones (identadas) dentro del for con esa variable elemento\n"
   ]
  },
  {
   "cell_type": "markdown",
   "id": "75ef1f53",
   "metadata": {},
   "source": [
    "### Función range\n",
    "De la documentación de python:\n",
    "https://docs.python.org/es/3/tutorial/controlflow.html#the-range-function\n",
    "Cuando se necesita iterar sobre una secuencia de números, es atinado usar la funcion integrada range.\n",
    "La estructura de range es:\n",
    "`\n",
    "range(inicio, fin, step)\n",
    "los parámetros inicio y step son opcionales.\n",
    "`\n"
   ]
  },
  {
   "cell_type": "code",
   "execution_count": 2,
   "id": "ffa4d24d",
   "metadata": {},
   "outputs": [
    {
     "name": "stdout",
     "output_type": "stream",
     "text": [
      "0\n",
      "1\n",
      "2\n",
      "3\n",
      "4\n"
     ]
    },
    {
     "data": {
      "text/plain": [
       "'\\nPor qué solo imprime hasta el número 4?\\n'"
      ]
     },
     "execution_count": 2,
     "metadata": {},
     "output_type": "execute_result"
    }
   ],
   "source": [
    "for i in range(5):\n",
    "    print(i)\n",
    "\n",
    "'''\n",
    "Por qué solo imprime hasta el número 4?\n",
    "'''"
   ]
  },
  {
   "cell_type": "code",
   "execution_count": 3,
   "id": "8e3ab19b",
   "metadata": {},
   "outputs": [
    {
     "data": {
      "text/plain": [
       "range(0, 5)"
      ]
     },
     "execution_count": 3,
     "metadata": {},
     "output_type": "execute_result"
    }
   ],
   "source": [
    "range(5)"
   ]
  },
  {
   "cell_type": "code",
   "execution_count": 4,
   "id": "4684918a",
   "metadata": {},
   "outputs": [
    {
     "data": {
      "text/plain": [
       "[0, 1, 2, 3, 4]"
      ]
     },
     "execution_count": 4,
     "metadata": {},
     "output_type": "execute_result"
    }
   ],
   "source": [
    "list(range(5))"
   ]
  },
  {
   "cell_type": "code",
   "execution_count": 6,
   "id": "336b9cc7",
   "metadata": {},
   "outputs": [
    {
     "name": "stdout",
     "output_type": "stream",
     "text": [
      "> \u001b[0;32m/tmp/ipykernel_2356/335517809.py\u001b[0m(3)\u001b[0;36m<cell line: 1>\u001b[0;34m()\u001b[0m\n",
      "\u001b[0;32m      1 \u001b[0;31m\u001b[0;32mfor\u001b[0m \u001b[0mi\u001b[0m \u001b[0;32min\u001b[0m \u001b[0mrange\u001b[0m\u001b[0;34m(\u001b[0m\u001b[0;36m5\u001b[0m\u001b[0;34m,\u001b[0m \u001b[0;36m9\u001b[0m\u001b[0;34m)\u001b[0m\u001b[0;34m:\u001b[0m\u001b[0;34m\u001b[0m\u001b[0;34m\u001b[0m\u001b[0m\n",
      "\u001b[0m\u001b[0;32m      2 \u001b[0;31m    \u001b[0;32mimport\u001b[0m \u001b[0mpdb\u001b[0m\u001b[0;34m;\u001b[0m \u001b[0mpdb\u001b[0m\u001b[0;34m.\u001b[0m\u001b[0mset_trace\u001b[0m\u001b[0;34m(\u001b[0m\u001b[0;34m)\u001b[0m\u001b[0;34m\u001b[0m\u001b[0;34m\u001b[0m\u001b[0m\n",
      "\u001b[0m\u001b[0;32m----> 3 \u001b[0;31m    \u001b[0mprint\u001b[0m\u001b[0;34m(\u001b[0m\u001b[0mi\u001b[0m\u001b[0;34m)\u001b[0m\u001b[0;34m\u001b[0m\u001b[0;34m\u001b[0m\u001b[0m\n",
      "\u001b[0m\n",
      "ipdb> print(i)\n",
      "5\n",
      "ipdb> cont\n",
      "5\n",
      "> \u001b[0;32m/tmp/ipykernel_2356/335517809.py\u001b[0m(2)\u001b[0;36m<cell line: 1>\u001b[0;34m()\u001b[0m\n",
      "\u001b[0;32m      1 \u001b[0;31m\u001b[0;32mfor\u001b[0m \u001b[0mi\u001b[0m \u001b[0;32min\u001b[0m \u001b[0mrange\u001b[0m\u001b[0;34m(\u001b[0m\u001b[0;36m5\u001b[0m\u001b[0;34m,\u001b[0m \u001b[0;36m9\u001b[0m\u001b[0;34m)\u001b[0m\u001b[0;34m:\u001b[0m\u001b[0;34m\u001b[0m\u001b[0;34m\u001b[0m\u001b[0m\n",
      "\u001b[0m\u001b[0;32m----> 2 \u001b[0;31m    \u001b[0;32mimport\u001b[0m \u001b[0mpdb\u001b[0m\u001b[0;34m;\u001b[0m \u001b[0mpdb\u001b[0m\u001b[0;34m.\u001b[0m\u001b[0mset_trace\u001b[0m\u001b[0;34m(\u001b[0m\u001b[0;34m)\u001b[0m\u001b[0;34m\u001b[0m\u001b[0;34m\u001b[0m\u001b[0m\n",
      "\u001b[0m\u001b[0;32m      3 \u001b[0;31m    \u001b[0mprint\u001b[0m\u001b[0;34m(\u001b[0m\u001b[0mi\u001b[0m\u001b[0;34m)\u001b[0m\u001b[0;34m\u001b[0m\u001b[0;34m\u001b[0m\u001b[0m\n",
      "\u001b[0m\n",
      "ipdb> print('******'+str(i))\n",
      "******6\n",
      "ipdb> cont\n",
      "6\n",
      "> \u001b[0;32m/tmp/ipykernel_2356/335517809.py\u001b[0m(3)\u001b[0;36m<cell line: 1>\u001b[0;34m()\u001b[0m\n",
      "\u001b[0;32m      1 \u001b[0;31m\u001b[0;32mfor\u001b[0m \u001b[0mi\u001b[0m \u001b[0;32min\u001b[0m \u001b[0mrange\u001b[0m\u001b[0;34m(\u001b[0m\u001b[0;36m5\u001b[0m\u001b[0;34m,\u001b[0m \u001b[0;36m9\u001b[0m\u001b[0;34m)\u001b[0m\u001b[0;34m:\u001b[0m\u001b[0;34m\u001b[0m\u001b[0;34m\u001b[0m\u001b[0m\n",
      "\u001b[0m\u001b[0;32m      2 \u001b[0;31m    \u001b[0;32mimport\u001b[0m \u001b[0mpdb\u001b[0m\u001b[0;34m;\u001b[0m \u001b[0mpdb\u001b[0m\u001b[0;34m.\u001b[0m\u001b[0mset_trace\u001b[0m\u001b[0;34m(\u001b[0m\u001b[0;34m)\u001b[0m\u001b[0;34m\u001b[0m\u001b[0;34m\u001b[0m\u001b[0m\n",
      "\u001b[0m\u001b[0;32m----> 3 \u001b[0;31m    \u001b[0mprint\u001b[0m\u001b[0;34m(\u001b[0m\u001b[0mi\u001b[0m\u001b[0;34m)\u001b[0m\u001b[0;34m\u001b[0m\u001b[0;34m\u001b[0m\u001b[0m\n",
      "\u001b[0m\n",
      "ipdb> q\n"
     ]
    },
    {
     "ename": "BdbQuit",
     "evalue": "",
     "output_type": "error",
     "traceback": [
      "\u001b[0;31m---------------------------------------------------------------------------\u001b[0m",
      "\u001b[0;31mBdbQuit\u001b[0m                                   Traceback (most recent call last)",
      "Input \u001b[0;32mIn [6]\u001b[0m, in \u001b[0;36m<cell line: 1>\u001b[0;34m()\u001b[0m\n\u001b[1;32m      1\u001b[0m \u001b[38;5;28;01mfor\u001b[39;00m i \u001b[38;5;129;01min\u001b[39;00m \u001b[38;5;28mrange\u001b[39m(\u001b[38;5;241m5\u001b[39m, \u001b[38;5;241m9\u001b[39m):\n\u001b[1;32m      2\u001b[0m     \u001b[38;5;28;01mimport\u001b[39;00m \u001b[38;5;21;01mpdb\u001b[39;00m; pdb\u001b[38;5;241m.\u001b[39mset_trace()\n\u001b[0;32m----> 3\u001b[0m     \u001b[38;5;28;43mprint\u001b[39;49m(i)\n",
      "Input \u001b[0;32mIn [6]\u001b[0m, in \u001b[0;36m<cell line: 1>\u001b[0;34m()\u001b[0m\n\u001b[1;32m      1\u001b[0m \u001b[38;5;28;01mfor\u001b[39;00m i \u001b[38;5;129;01min\u001b[39;00m \u001b[38;5;28mrange\u001b[39m(\u001b[38;5;241m5\u001b[39m, \u001b[38;5;241m9\u001b[39m):\n\u001b[1;32m      2\u001b[0m     \u001b[38;5;28;01mimport\u001b[39;00m \u001b[38;5;21;01mpdb\u001b[39;00m; pdb\u001b[38;5;241m.\u001b[39mset_trace()\n\u001b[0;32m----> 3\u001b[0m     \u001b[38;5;28;43mprint\u001b[39;49m(i)\n",
      "File \u001b[0;32m/usr/lib/python3.8/bdb.py:88\u001b[0m, in \u001b[0;36mBdb.trace_dispatch\u001b[0;34m(self, frame, event, arg)\u001b[0m\n\u001b[1;32m     86\u001b[0m     \u001b[38;5;28;01mreturn\u001b[39;00m \u001b[38;5;66;03m# None\u001b[39;00m\n\u001b[1;32m     87\u001b[0m \u001b[38;5;28;01mif\u001b[39;00m event \u001b[38;5;241m==\u001b[39m \u001b[38;5;124m'\u001b[39m\u001b[38;5;124mline\u001b[39m\u001b[38;5;124m'\u001b[39m:\n\u001b[0;32m---> 88\u001b[0m     \u001b[38;5;28;01mreturn\u001b[39;00m \u001b[38;5;28;43mself\u001b[39;49m\u001b[38;5;241;43m.\u001b[39;49m\u001b[43mdispatch_line\u001b[49m\u001b[43m(\u001b[49m\u001b[43mframe\u001b[49m\u001b[43m)\u001b[49m\n\u001b[1;32m     89\u001b[0m \u001b[38;5;28;01mif\u001b[39;00m event \u001b[38;5;241m==\u001b[39m \u001b[38;5;124m'\u001b[39m\u001b[38;5;124mcall\u001b[39m\u001b[38;5;124m'\u001b[39m:\n\u001b[1;32m     90\u001b[0m     \u001b[38;5;28;01mreturn\u001b[39;00m \u001b[38;5;28mself\u001b[39m\u001b[38;5;241m.\u001b[39mdispatch_call(frame, arg)\n",
      "File \u001b[0;32m/usr/lib/python3.8/bdb.py:113\u001b[0m, in \u001b[0;36mBdb.dispatch_line\u001b[0;34m(self, frame)\u001b[0m\n\u001b[1;32m    111\u001b[0m \u001b[38;5;28;01mif\u001b[39;00m \u001b[38;5;28mself\u001b[39m\u001b[38;5;241m.\u001b[39mstop_here(frame) \u001b[38;5;129;01mor\u001b[39;00m \u001b[38;5;28mself\u001b[39m\u001b[38;5;241m.\u001b[39mbreak_here(frame):\n\u001b[1;32m    112\u001b[0m     \u001b[38;5;28mself\u001b[39m\u001b[38;5;241m.\u001b[39muser_line(frame)\n\u001b[0;32m--> 113\u001b[0m     \u001b[38;5;28;01mif\u001b[39;00m \u001b[38;5;28mself\u001b[39m\u001b[38;5;241m.\u001b[39mquitting: \u001b[38;5;28;01mraise\u001b[39;00m BdbQuit\n\u001b[1;32m    114\u001b[0m \u001b[38;5;28;01mreturn\u001b[39;00m \u001b[38;5;28mself\u001b[39m\u001b[38;5;241m.\u001b[39mtrace_dispatch\n",
      "\u001b[0;31mBdbQuit\u001b[0m: "
     ]
    }
   ],
   "source": [
    "for i in range(5, 9):\n",
    "    import pdb; pdb.set_trace()\n",
    "    print(i)"
   ]
  },
  {
   "cell_type": "code",
   "execution_count": null,
   "id": "995a89d5",
   "metadata": {},
   "outputs": [],
   "source": [
    "for i in range(1, 10, 2):\n",
    "    print(i)"
   ]
  },
  {
   "cell_type": "markdown",
   "id": "d542a776",
   "metadata": {},
   "source": [
    "### Contadores\n",
    "En el control de flujo que se logra a través de las iteraciones en un bucle, muchas veces es necesario el uso de \"contadores\".\n",
    "Estos elementos son una variable a la que se le asigna un valor inicial (comúnmente  0 ) y se incrementa su valor con cada recorrido con el código interno del bucle\n",
    "\n",
    "un ejemplo de uso de un contador puede ser"
   ]
  },
  {
   "cell_type": "code",
   "execution_count": 8,
   "id": "49c7d1a7",
   "metadata": {},
   "outputs": [
    {
     "name": "stdout",
     "output_type": "stream",
     "text": [
      "1\n",
      "2\n",
      "3\n",
      "4\n",
      "5\n",
      "6\n",
      "7\n",
      "8\n",
      "9\n",
      "10\n",
      "valor final 10\n"
     ]
    }
   ],
   "source": [
    "count = 0\n",
    "for i in range(10):\n",
    "    count = count + 1\n",
    "    print(count)\n",
    "\n",
    "print('valor final',count)"
   ]
  },
  {
   "cell_type": "markdown",
   "id": "ba1ad165",
   "metadata": {},
   "source": [
    "### Operadores de asignación\n",
    "Es importante tener en cuenta que muchas veces encontraremos\n",
    "count += 1\n",
    "\n",
    "esta declaracion reducida es equivalente a:\n",
    "count = count + 1\n",
    "\n",
    "La misma notación puede aplicarse con otros operadores aritmético\n",
    "\n",
    "EJEMPLOS DE USO\n",
    "- count -= 1  restara 1 cada iteración\n",
    "- count *= 2  duplicará el valor cada iteración\n",
    "- count / 2  divirá por dos el valor cada iteración\n",
    "- count ** 2  elevará al cuadrado el valor cada iteración"
   ]
  },
  {
   "cell_type": "markdown",
   "id": "d74eb8f1",
   "metadata": {},
   "source": [
    "### Uso del primer objeto iterable (cadena)\n",
    "\n",
    "En clases anteriores vimos que existian objetos que no eran unidimensionales. Mensionamos que el primero que veríamos es la CADENA.\n",
    "Sobre estos objetos es posible \"iterar\" por cada uno de sus elementos. En el caso de la cadena sus elementos interiores son CARACTERES.\n",
    "Así pordríamos generar un bucle que repita el mismo flujo de codigo sobre cada uno de los caracteres.\n",
    "\n",
    "El ejemplo básico:\n",
    "\n",
    "\"Contar cuantas letras tiene una cadena\" (esto lo hace como vimos la funciòn len())\""
   ]
  },
  {
   "cell_type": "code",
   "execution_count": 10,
   "id": "2bb5c477",
   "metadata": {
    "scrolled": true
   },
   "outputs": [
    {
     "name": "stdout",
     "output_type": "stream",
     "text": [
      "> \u001b[0;32m/tmp/ipykernel_2356/2757799735.py\u001b[0m(3)\u001b[0;36m<cell line: 3>\u001b[0;34m()\u001b[0m\n",
      "\u001b[0;32m      1 \u001b[0;31m\u001b[0mpalabra\u001b[0m \u001b[0;34m=\u001b[0m \u001b[0;34m\"rio\"\u001b[0m\u001b[0;34m\u001b[0m\u001b[0;34m\u001b[0m\u001b[0m\n",
      "\u001b[0m\u001b[0;32m      2 \u001b[0;31m\u001b[0mcount\u001b[0m \u001b[0;34m=\u001b[0m \u001b[0;36m0\u001b[0m\u001b[0;34m\u001b[0m\u001b[0;34m\u001b[0m\u001b[0m\n",
      "\u001b[0m\u001b[0;32m----> 3 \u001b[0;31m\u001b[0;32mfor\u001b[0m \u001b[0mi\u001b[0m \u001b[0;32min\u001b[0m \u001b[0mpalabra\u001b[0m\u001b[0;34m:\u001b[0m\u001b[0;34m\u001b[0m\u001b[0;34m\u001b[0m\u001b[0m\n",
      "\u001b[0m\u001b[0;32m      4 \u001b[0;31m    \u001b[0mcount\u001b[0m \u001b[0;34m+=\u001b[0m \u001b[0;36m1\u001b[0m\u001b[0;34m\u001b[0m\u001b[0;34m\u001b[0m\u001b[0m\n",
      "\u001b[0m\u001b[0;32m      5 \u001b[0;31m    \u001b[0;32mimport\u001b[0m \u001b[0mpdb\u001b[0m\u001b[0;34m;\u001b[0m \u001b[0mpdb\u001b[0m\u001b[0;34m.\u001b[0m\u001b[0mset_trace\u001b[0m\u001b[0;34m(\u001b[0m\u001b[0;34m)\u001b[0m\u001b[0;34m\u001b[0m\u001b[0;34m\u001b[0m\u001b[0m\n",
      "\u001b[0m\n",
      "ipdb> count\n",
      "1\n",
      "ipdb> i\n",
      "'r'\n",
      "ipdb> cont\n",
      "> \u001b[0;32m/tmp/ipykernel_2356/2757799735.py\u001b[0m(3)\u001b[0;36m<cell line: 3>\u001b[0;34m()\u001b[0m\n",
      "\u001b[0;32m      1 \u001b[0;31m\u001b[0mpalabra\u001b[0m \u001b[0;34m=\u001b[0m \u001b[0;34m\"rio\"\u001b[0m\u001b[0;34m\u001b[0m\u001b[0;34m\u001b[0m\u001b[0m\n",
      "\u001b[0m\u001b[0;32m      2 \u001b[0;31m\u001b[0mcount\u001b[0m \u001b[0;34m=\u001b[0m \u001b[0;36m0\u001b[0m\u001b[0;34m\u001b[0m\u001b[0;34m\u001b[0m\u001b[0m\n",
      "\u001b[0m\u001b[0;32m----> 3 \u001b[0;31m\u001b[0;32mfor\u001b[0m \u001b[0mi\u001b[0m \u001b[0;32min\u001b[0m \u001b[0mpalabra\u001b[0m\u001b[0;34m:\u001b[0m\u001b[0;34m\u001b[0m\u001b[0;34m\u001b[0m\u001b[0m\n",
      "\u001b[0m\u001b[0;32m      4 \u001b[0;31m    \u001b[0mcount\u001b[0m \u001b[0;34m+=\u001b[0m \u001b[0;36m1\u001b[0m\u001b[0;34m\u001b[0m\u001b[0;34m\u001b[0m\u001b[0m\n",
      "\u001b[0m\u001b[0;32m      5 \u001b[0;31m    \u001b[0;32mimport\u001b[0m \u001b[0mpdb\u001b[0m\u001b[0;34m;\u001b[0m \u001b[0mpdb\u001b[0m\u001b[0;34m.\u001b[0m\u001b[0mset_trace\u001b[0m\u001b[0;34m(\u001b[0m\u001b[0;34m)\u001b[0m\u001b[0;34m\u001b[0m\u001b[0;34m\u001b[0m\u001b[0m\n",
      "\u001b[0m\n",
      "ipdb> cont\n",
      "> \u001b[0;32m/tmp/ipykernel_2356/2757799735.py\u001b[0m(3)\u001b[0;36m<cell line: 3>\u001b[0;34m()\u001b[0m\n",
      "\u001b[0;32m      1 \u001b[0;31m\u001b[0mpalabra\u001b[0m \u001b[0;34m=\u001b[0m \u001b[0;34m\"rio\"\u001b[0m\u001b[0;34m\u001b[0m\u001b[0;34m\u001b[0m\u001b[0m\n",
      "\u001b[0m\u001b[0;32m      2 \u001b[0;31m\u001b[0mcount\u001b[0m \u001b[0;34m=\u001b[0m \u001b[0;36m0\u001b[0m\u001b[0;34m\u001b[0m\u001b[0;34m\u001b[0m\u001b[0m\n",
      "\u001b[0m\u001b[0;32m----> 3 \u001b[0;31m\u001b[0;32mfor\u001b[0m \u001b[0mi\u001b[0m \u001b[0;32min\u001b[0m \u001b[0mpalabra\u001b[0m\u001b[0;34m:\u001b[0m\u001b[0;34m\u001b[0m\u001b[0;34m\u001b[0m\u001b[0m\n",
      "\u001b[0m\u001b[0;32m      4 \u001b[0;31m    \u001b[0mcount\u001b[0m \u001b[0;34m+=\u001b[0m \u001b[0;36m1\u001b[0m\u001b[0;34m\u001b[0m\u001b[0;34m\u001b[0m\u001b[0m\n",
      "\u001b[0m\u001b[0;32m      5 \u001b[0;31m    \u001b[0;32mimport\u001b[0m \u001b[0mpdb\u001b[0m\u001b[0;34m;\u001b[0m \u001b[0mpdb\u001b[0m\u001b[0;34m.\u001b[0m\u001b[0mset_trace\u001b[0m\u001b[0;34m(\u001b[0m\u001b[0;34m)\u001b[0m\u001b[0;34m\u001b[0m\u001b[0;34m\u001b[0m\u001b[0m\n",
      "\u001b[0m\n",
      "ipdb> count\n",
      "3\n",
      "ipdb> i\n",
      "'o'\n",
      "ipdb> q\n"
     ]
    },
    {
     "ename": "BdbQuit",
     "evalue": "",
     "output_type": "error",
     "traceback": [
      "\u001b[0;31m---------------------------------------------------------------------------\u001b[0m",
      "\u001b[0;31mBdbQuit\u001b[0m                                   Traceback (most recent call last)",
      "Input \u001b[0;32mIn [10]\u001b[0m, in \u001b[0;36m<cell line: 3>\u001b[0;34m()\u001b[0m\n\u001b[1;32m      1\u001b[0m palabra \u001b[38;5;241m=\u001b[39m \u001b[38;5;124m\"\u001b[39m\u001b[38;5;124mrio\u001b[39m\u001b[38;5;124m\"\u001b[39m\n\u001b[1;32m      2\u001b[0m count \u001b[38;5;241m=\u001b[39m \u001b[38;5;241m0\u001b[39m\n\u001b[0;32m----> 3\u001b[0m \u001b[38;5;28;01mfor\u001b[39;00m i \u001b[38;5;129;01min\u001b[39;00m palabra:\n\u001b[1;32m      4\u001b[0m     count \u001b[38;5;241m+\u001b[39m\u001b[38;5;241m=\u001b[39m \u001b[38;5;241m1\u001b[39m\n\u001b[1;32m      5\u001b[0m     \u001b[38;5;28;01mimport\u001b[39;00m \u001b[38;5;21;01mpdb\u001b[39;00m; pdb\u001b[38;5;241m.\u001b[39mset_trace()\n",
      "Input \u001b[0;32mIn [10]\u001b[0m, in \u001b[0;36m<cell line: 3>\u001b[0;34m()\u001b[0m\n\u001b[1;32m      1\u001b[0m palabra \u001b[38;5;241m=\u001b[39m \u001b[38;5;124m\"\u001b[39m\u001b[38;5;124mrio\u001b[39m\u001b[38;5;124m\"\u001b[39m\n\u001b[1;32m      2\u001b[0m count \u001b[38;5;241m=\u001b[39m \u001b[38;5;241m0\u001b[39m\n\u001b[0;32m----> 3\u001b[0m \u001b[38;5;28;01mfor\u001b[39;00m i \u001b[38;5;129;01min\u001b[39;00m palabra:\n\u001b[1;32m      4\u001b[0m     count \u001b[38;5;241m+\u001b[39m\u001b[38;5;241m=\u001b[39m \u001b[38;5;241m1\u001b[39m\n\u001b[1;32m      5\u001b[0m     \u001b[38;5;28;01mimport\u001b[39;00m \u001b[38;5;21;01mpdb\u001b[39;00m; pdb\u001b[38;5;241m.\u001b[39mset_trace()\n",
      "File \u001b[0;32m/usr/lib/python3.8/bdb.py:88\u001b[0m, in \u001b[0;36mBdb.trace_dispatch\u001b[0;34m(self, frame, event, arg)\u001b[0m\n\u001b[1;32m     86\u001b[0m     \u001b[38;5;28;01mreturn\u001b[39;00m \u001b[38;5;66;03m# None\u001b[39;00m\n\u001b[1;32m     87\u001b[0m \u001b[38;5;28;01mif\u001b[39;00m event \u001b[38;5;241m==\u001b[39m \u001b[38;5;124m'\u001b[39m\u001b[38;5;124mline\u001b[39m\u001b[38;5;124m'\u001b[39m:\n\u001b[0;32m---> 88\u001b[0m     \u001b[38;5;28;01mreturn\u001b[39;00m \u001b[38;5;28;43mself\u001b[39;49m\u001b[38;5;241;43m.\u001b[39;49m\u001b[43mdispatch_line\u001b[49m\u001b[43m(\u001b[49m\u001b[43mframe\u001b[49m\u001b[43m)\u001b[49m\n\u001b[1;32m     89\u001b[0m \u001b[38;5;28;01mif\u001b[39;00m event \u001b[38;5;241m==\u001b[39m \u001b[38;5;124m'\u001b[39m\u001b[38;5;124mcall\u001b[39m\u001b[38;5;124m'\u001b[39m:\n\u001b[1;32m     90\u001b[0m     \u001b[38;5;28;01mreturn\u001b[39;00m \u001b[38;5;28mself\u001b[39m\u001b[38;5;241m.\u001b[39mdispatch_call(frame, arg)\n",
      "File \u001b[0;32m/usr/lib/python3.8/bdb.py:113\u001b[0m, in \u001b[0;36mBdb.dispatch_line\u001b[0;34m(self, frame)\u001b[0m\n\u001b[1;32m    111\u001b[0m \u001b[38;5;28;01mif\u001b[39;00m \u001b[38;5;28mself\u001b[39m\u001b[38;5;241m.\u001b[39mstop_here(frame) \u001b[38;5;129;01mor\u001b[39;00m \u001b[38;5;28mself\u001b[39m\u001b[38;5;241m.\u001b[39mbreak_here(frame):\n\u001b[1;32m    112\u001b[0m     \u001b[38;5;28mself\u001b[39m\u001b[38;5;241m.\u001b[39muser_line(frame)\n\u001b[0;32m--> 113\u001b[0m     \u001b[38;5;28;01mif\u001b[39;00m \u001b[38;5;28mself\u001b[39m\u001b[38;5;241m.\u001b[39mquitting: \u001b[38;5;28;01mraise\u001b[39;00m BdbQuit\n\u001b[1;32m    114\u001b[0m \u001b[38;5;28;01mreturn\u001b[39;00m \u001b[38;5;28mself\u001b[39m\u001b[38;5;241m.\u001b[39mtrace_dispatch\n",
      "\u001b[0;31mBdbQuit\u001b[0m: "
     ]
    }
   ],
   "source": [
    "palabra = \"rio\"\n",
    "count = 0\n",
    "for i in palabra:\n",
    "    count += 1\n",
    "    import pdb; pdb.set_trace()\n",
    "#     print(count,i)\n",
    "print(\"la palabra tiene: \", count, \" letras\")"
   ]
  },
  {
   "cell_type": "markdown",
   "id": "ce323152",
   "metadata": {},
   "source": [
    "#### Ejercicio de clase para hacer entre todos en el pizarrón\n",
    "\n",
    "Usando la lista de cadenas de abajo, generar una frase e imprimirla.\n",
    "palabras = ['La', 'fceia', 'es', 'la', 'facultad', 'de', 'ciencias', 'exactas', 'ingeniería', 'y', 'agrimensura']\n",
    "Pistas:\n",
    "* entre las palabras debería haber un espacio\n",
    "* la concatenación de cadenas se logra con el operador +\n",
    "* definir una variable `frase` a la que adicionar las palaras"
   ]
  },
  {
   "cell_type": "markdown",
   "id": "7527745b",
   "metadata": {},
   "source": [
    "## Sentencia while\n",
    "De la documentación de python:\n",
    "https://docs.python.org/es/3/reference/compound_stmts.html#the-while-statement\n",
    "\n",
    "La sentencia while se usa para la ejecución repetida siempre que una expresión sea verdadera"
   ]
  },
  {
   "cell_type": "code",
   "execution_count": null,
   "id": "18b40465",
   "metadata": {},
   "outputs": [],
   "source": [
    "target = 3\n",
    "ingreso = int(input('introduzca un número entre 0 y 10: '))\n",
    "\n",
    "while ingreso != target:\n",
    "    ingreso = int(input('introduzca un número entre 0 y 10: '))\n",
    "print('Ganaste!!!')"
   ]
  },
  {
   "cell_type": "markdown",
   "id": "4a54ff3b",
   "metadata": {},
   "source": [
    "Analicemos lo que paso arriba:\n",
    "1. Definimos una variable que se llama target. Target sería como el número que una persona piensa para que otra adivine\n",
    "2. Le pedimos a la persona que ingrese un número, `ingreso`\n",
    "3. Evaluamos si el número ingresado es diferente a `target`. Si esto es así, ejecuto las acciones dentro de `while`, que están identadas\n",
    "4. Vuelvo a preguntar por un número y redefino la variable `ingreso`\n",
    "5. Cuando `ingreso` es igual a `target` o `ingreso` != `target` --> False, me retiro del while\n",
    "6. Imprimo `Ganaste`\n",
    "\n",
    "Pensemos como usarlo con la función random"
   ]
  },
  {
   "cell_type": "code",
   "execution_count": 11,
   "id": "34b8eb95",
   "metadata": {},
   "outputs": [
    {
     "name": "stdout",
     "output_type": "stream",
     "text": [
      "10\n",
      "9\n",
      "8\n",
      "7\n",
      "6\n",
      "5\n",
      "4\n",
      "3\n",
      "2\n",
      "1\n",
      "Feliz año nuevo!!!\n"
     ]
    }
   ],
   "source": [
    "# Otro ejemplo, cuenta atrás para año nuevo\n",
    "\n",
    "n = 10\n",
    "\n",
    "while n > 0:\n",
    "#     import pdb; pdb.set_trace()\n",
    "    print(n)\n",
    "    n -= 1\n",
    "print('Feliz año nuevo!!!')"
   ]
  },
  {
   "cell_type": "markdown",
   "id": "a2f34c7f",
   "metadata": {},
   "source": [
    "### Formato general\n",
    "`\n",
    "while condición:\n",
    "    acciones a realizar en cada iteración:\n",
    "    acción 1\n",
    "    acción 2\n",
    "    ...\n",
    "    acción n\n",
    "resto del código 1\n",
    "resto del código 2\n",
    "...\n",
    "fin del código\n",
    "`\n",
    "Secuencia de pasos según (1):\n",
    "1. Determinar si la condición es True o False\n",
    "2. Si es false, salir del  `while` y continuar con la ejecución del resto del código\n",
    "3. Si la condición es verdadera, correr el cuerpo de código dentro del `while` y volver al paso 1."
   ]
  },
  {
   "cell_type": "markdown",
   "id": "53a899e5",
   "metadata": {},
   "source": [
    "| for| while | \n",
    "|:-: |:-: |\n",
    "| Se sabe el n° de iteraciones  | No se sabe | \n",
    "|Usa un contador| Puede usar un cotador perodebe ser iniciado antes del bucle y debe incrementar dentro|\n",
    "|Puede reescribirse un for usando un while|No se puede a la inversa|\n",
    "|Se puede terminar con \"break\"|Se puede terminar con \"break\"|"
   ]
  },
  {
   "cell_type": "markdown",
   "id": "ea6b742c",
   "metadata": {},
   "source": [
    "### Ejercicios de clase\n",
    "1. Ejercicio de clase para escribir la lógica en el pizarrón juntes y el código en la compu solos. Vamos a crear un juego para niñes que están aprendiendo a sumar. En pantalla se mostrarán dos números y se le debe pedir a la persona que calcule la suma de ambos. Si la suma es correcta felicitar a la persona. Sino, alentarla a que siga intentando hasta lograrlo\n",
    "\n",
    "### Ejercicios extras\n",
    "1. Escribir un programa que permita ingresar un número llamado valor_objetivo. Luego, se debe pedir al usuario que ingrese números por consola hasta que la suma de los números ingresados sea mayor o igual que valor_objetivo\n",
    "\n",
    "2. Escribir un programa que le permita a una persona ingresar 10 números. Al finalizar, calcular la media, el máximo y el mínimo entre esos valores\n",
    "\n",
    "3. Escribir un programa que le permita al usuario ingresar la lista del supermercado. Para finalizar la lista, se deberá ingresar el símbolo * Imprimir la lista del supermercado\n",
    "\n",
    "4. Volvemos al ejercicio de la clase anterior donde segmentamos a la población por edades. Escribir un programa dónde se ingresen 10 edades y devuelva la cantidad de personas en cada grupo etario\n"
   ]
  },
  {
   "cell_type": "code",
   "execution_count": null,
   "id": "27cf5cea",
   "metadata": {},
   "outputs": [],
   "source": []
  },
  {
   "cell_type": "code",
   "execution_count": null,
   "id": "10c47587",
   "metadata": {},
   "outputs": [],
   "source": []
  },
  {
   "cell_type": "code",
   "execution_count": null,
   "id": "3e8cb678",
   "metadata": {},
   "outputs": [],
   "source": []
  }
 ],
 "metadata": {
  "kernelspec": {
   "display_name": "tuia",
   "language": "python",
   "name": "tuia"
  },
  "language_info": {
   "codemirror_mode": {
    "name": "ipython",
    "version": 3
   },
   "file_extension": ".py",
   "mimetype": "text/x-python",
   "name": "python",
   "nbconvert_exporter": "python",
   "pygments_lexer": "ipython3",
   "version": "3.8.10"
  }
 },
 "nbformat": 4,
 "nbformat_minor": 5
}
