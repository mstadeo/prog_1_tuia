{
 "cells": [
  {
   "cell_type": "code",
   "execution_count": null,
   "id": "eb0d1bbc",
   "metadata": {},
   "outputs": [],
   "source": [
    "from IPython.display import display, HTML\n",
    "display(HTML('<style>.container{width:100% !important;} </style>'))"
   ]
  },
  {
   "cell_type": "markdown",
   "id": "62dad7d1",
   "metadata": {},
   "source": [
    "## Clase 5 de Programación 1\n",
    "Agenda:\n",
    "* `for` statement\n",
    "* `range()`\n",
    "* `while` statement"
   ]
  },
  {
   "cell_type": "markdown",
   "id": "02570d8d",
   "metadata": {},
   "source": [
    "### Sentencia for\n",
    "De la documentación de python\n",
    "https://docs.python.org/es/3/tutorial/controlflow.html#for-statements\n",
    "> La sentencia for de Python itera sobre los ítems de cualquier secuencia (una lista o una cadena de texto), en el orden que aparecen en la secuencia. Por ejemplo:\n"
   ]
  },
  {
   "cell_type": "code",
   "execution_count": null,
   "id": "de7f53c5",
   "metadata": {},
   "outputs": [],
   "source": [
    "palabras = ['gato', 'ventana', 'perro']\n",
    "for palabra in palabras:\n",
    "    print(palabra, len(palabra))"
   ]
  },
  {
   "cell_type": "code",
   "execution_count": null,
   "id": "61b287b3",
   "metadata": {},
   "outputs": [],
   "source": [
    "type(range(2))"
   ]
  },
  {
   "cell_type": "markdown",
   "id": "50972981",
   "metadata": {},
   "source": [
    "El objecto `palabras` es una lista, un objeto que aún no estudiamos. Por ahora pensemos en las listas como objetos que nos permiten guardar otros objetos dentro.\n",
    "En el código de arriba estamos usando el `for` para ir accediendo a cada una de las cadenas que están guardadas dentro de la lista `palabras`.\n",
    "Luego, cuando pudimos acceder a la `palabra`, la imprimimos y medimos su longitud con la función len() '''\n",
    "\n",
    "### Formato general\n",
    "\n",
    "`for elemento in objeto:\n",
    "    acciones a realizar en cada iteración:\n",
    "    acción 1\n",
    "    acción 2\n",
    "    ...\n",
    "    acción n\n",
    "`\n",
    "\n",
    "Pero, que significa iterar?\n",
    "En cada loop/vuelta python le va a asignar a la variable `elemento` uno a uno los objetos dentro de `objeto`.\n",
    "Luego, realizará el conjunto/bloque de acciones (identadas) dentro del for con esa variable elemento\n"
   ]
  },
  {
   "cell_type": "markdown",
   "id": "75ef1f53",
   "metadata": {},
   "source": [
    "### Función range\n",
    "De la documentación de python:\n",
    "https://docs.python.org/es/3/tutorial/controlflow.html#the-range-function\n",
    "Cuando se necesita iterar sobre una secuencia de números, es atinado usar la funcion integrada range.\n",
    "La estructura de range es:\n",
    "`\n",
    "range(inicio, fin-1, step)\n",
    "los parámetros inicio y step son opcionales.\n",
    "`\n"
   ]
  },
  {
   "cell_type": "code",
   "execution_count": null,
   "id": "ffa4d24d",
   "metadata": {},
   "outputs": [],
   "source": [
    "for i in range(5):\n",
    "    print(i)\n",
    "\n",
    "'''\n",
    "Por qué solo imprime hasta el número 4?\n",
    "'''"
   ]
  },
  {
   "cell_type": "code",
   "execution_count": null,
   "id": "4684918a",
   "metadata": {},
   "outputs": [],
   "source": [
    "list(range(5))"
   ]
  },
  {
   "cell_type": "code",
   "execution_count": null,
   "id": "336b9cc7",
   "metadata": {},
   "outputs": [],
   "source": [
    "for i in range(5, 9):\n",
    "    print(i)"
   ]
  },
  {
   "cell_type": "code",
   "execution_count": null,
   "id": "995a89d5",
   "metadata": {},
   "outputs": [],
   "source": [
    "for i in range(1, 10, 2):\n",
    "    print(i)"
   ]
  },
  {
   "cell_type": "markdown",
   "id": "d542a776",
   "metadata": {},
   "source": [
    "### Contadores\n",
    "En el control de flujo que se logra a través de las iteraciones en un bucle, muchas veces es necesario el uso de \"contadores\".\n",
    "Estos elementos son una variable a la que se le asigna un valor inicial (comúnmente  0 ) y se incrementa su valor con cada recorrido con el código interno del bucle\n",
    "\n",
    "un ejemplo de uso de un contador puede ser"
   ]
  },
  {
   "cell_type": "code",
   "execution_count": null,
   "id": "49c7d1a7",
   "metadata": {},
   "outputs": [],
   "source": [
    "count = 0\n",
    "for i in range(10):\n",
    "    count = count + 1\n",
    "print(count)"
   ]
  },
  {
   "cell_type": "markdown",
   "id": "ba1ad165",
   "metadata": {},
   "source": [
    "### Operadores de asignación\n",
    "Es importante tener en cuenta que muchas veces encontraremos\n",
    "count += 1\n",
    "\n",
    "esta declaracion reducida es equivalente a:\n",
    "count = count + 1\n",
    "\n",
    "La misma notación puede aplicarse con otros operadores aritmético\n",
    "\n",
    "EJEMPLOS DE USO\n",
    "- count -= 1  restara 1 cada iteración\n",
    "- count *= 2  duplicará el valor cada iteración\n",
    "- count / 2  divirá por dos el valor cada iteración\n",
    "- count ** 2  elevará al cuadrado el valor cada iteración"
   ]
  },
  {
   "cell_type": "markdown",
   "id": "d74eb8f1",
   "metadata": {},
   "source": [
    "### Uso del primer objeto iterable (cadena)\n",
    "\n",
    "En clases anteriores vimos que existian objetos que no eran unidimensionales. Mensionamos que el primero que veríamos es la CADENA.\n",
    "Sobre estos objetos es posible \"iterar\" por cada uno de sus elementos. En el caso de la cadena sus elementos interiores son CARACTERES.\n",
    "Así pordríamos generar un bucle que repita el mismo flujo de codigo sobre cada uno de los caracteres.\n",
    "\n",
    "El ejemplo básico:\n",
    "\n",
    "\"Contar cuantas letras tiene una cadena\" (esto lo hace como vimos la funciòn len())\""
   ]
  },
  {
   "cell_type": "code",
   "execution_count": null,
   "id": "2bb5c477",
   "metadata": {},
   "outputs": [],
   "source": [
    "palabra = \"rio\"\n",
    "count = 0\n",
    "for i in palabra:\n",
    "    count += 1\n",
    "    import pdb; pdb.set_trace()\n",
    "#     print(count,i)\n",
    "print(\"la palabra tiene: \", count, \" letras\")"
   ]
  },
  {
   "cell_type": "markdown",
   "id": "ce323152",
   "metadata": {},
   "source": [
    "#### Ejercicio de clase para hacer entre todos en el pizarrón\n",
    "\n",
    "Usando la lista de cadenas de abajo, generar una frase e imprimirla.\n",
    "palabras = ['La', 'fceia', 'es', 'la', 'facultad', 'de', 'ciencias', 'exactas', 'ingeniería', 'y', 'agrimensura']\n",
    "Pistas:\n",
    "* entre las palabras debería haber un espacio\n",
    "* la concatenación de cadenas se logra con el operador +\n",
    "* definir una variable `frase` a la que adicionar las palaras"
   ]
  },
  {
   "cell_type": "markdown",
   "id": "7527745b",
   "metadata": {},
   "source": [
    "## Sentencia while\n",
    "De la documentación de python:\n",
    "https://docs.python.org/es/3/reference/compound_stmts.html#the-while-statement\n",
    "\n",
    "La sentencia while se usa para la ejecución repetida siempre que una expresión sea verdadera"
   ]
  },
  {
   "cell_type": "code",
   "execution_count": null,
   "id": "18b40465",
   "metadata": {},
   "outputs": [],
   "source": [
    "target = 3\n",
    "ingreso = int(input('introduzca un número entre 0 y 10: '))\n",
    "\n",
    "while ingreso != target:\n",
    "    ingreso = int(input('introduzca un número entre 0 y 10: '))\n",
    "print('Ganaste!!!')"
   ]
  },
  {
   "cell_type": "markdown",
   "id": "4a54ff3b",
   "metadata": {},
   "source": [
    "Analicemos lo que paso arriba:\n",
    "1. Definimos una variable que se llama target. Target sería como el número que una persona piensa para que otra adivine\n",
    "2. Le pedimos a la persona que ingrese un número, `ingreso`\n",
    "3. Evaluamos si el número ingresado es diferente a `target`. Si esto es así, ejecuto las acciones dentro de `while`, que están identadas\n",
    "4. Vuelvo a preguntar por un número y redefino la variable `ingreso`\n",
    "5. Cuando `ingreso` es igual a `target` o `ingreso` != `target` --> False, me retiro del while\n",
    "6. Imprimo `Ganaste`\n",
    "\n",
    "Pensemos como usarlo con la función random"
   ]
  },
  {
   "cell_type": "code",
   "execution_count": null,
   "id": "34b8eb95",
   "metadata": {},
   "outputs": [],
   "source": [
    "# Otro ejemplo, cuenta atrás para año nuevo\n",
    "\n",
    "n = 10\n",
    "\n",
    "while n > 0:\n",
    "#     import pdb; pdb.set_trace()\n",
    "    print(n)\n",
    "    n -= 1\n",
    "print('Feliz año nuevo!!!')"
   ]
  },
  {
   "cell_type": "markdown",
   "id": "a2f34c7f",
   "metadata": {},
   "source": [
    "### Formato general\n",
    "`\n",
    "while condición:\n",
    "    acciones a realizar en cada iteración:\n",
    "    acción 1\n",
    "    acción 2\n",
    "    ...\n",
    "    acción n\n",
    "resto del código 1\n",
    "resto del código 2\n",
    "...\n",
    "fin del código\n",
    "`\n",
    "Secuencia de pasos según (1):\n",
    "1. Determinar si la condición es True o False\n",
    "2. Si es false, salir del  `while` y continuar con la ejecución del resto del código\n",
    "3. Si la condición es verdadera, correr el cuerpo de código dentro del `while` y volver al paso 1."
   ]
  },
  {
   "cell_type": "markdown",
   "id": "53a899e5",
   "metadata": {},
   "source": [
    "| for| while | \n",
    "|:-: |:-: |\n",
    "| Se sabe el n° de iteraciones  | No se sabe | \n",
    "|Usa un contador| Puede usar un cotador perodebe ser iniciado antes del bucle y debe incrementar dentro|\n",
    "|Puede reescribirse un for usando un while|No se puede a la inversa|\n",
    "|Se puede terminar con \"break\"|Se puede terminar con \"break\"|"
   ]
  },
  {
   "cell_type": "markdown",
   "id": "ea6b742c",
   "metadata": {},
   "source": [
    "### Ejercicios de clase\n",
    "1. Ejercicio de clase para escribir la lógica en el pizarrón juntes y el código en la compu solos. Vamos a crear un juego para niñes que están aprendiendo a sumar. En pantalla se mostrarán dos números y se le debe pedir a la persona que calcule la suma de ambos. Si la suma es correcta felicitar a la persona. Sino, alentarla a que siga intentando hasta lograrlo\n",
    "\n",
    "2. Ejercicio de clase para hacer entre todos en el pizarrón. Usando la lista de cadenas de abajo, generar una frase e imprimirla.\n",
    "\n",
    "palabras = ['La', 'fceia', 'es', 'la', 'facultad', 'de', 'ciencias', 'exactas', 'ingeniería', 'y', 'agrimensura']\n",
    "\n",
    "Pistas:\n",
    "* entre las palabras debería haber un espacio\n",
    "* la concatenación de cadenas se logra con el operador +\n",
    "* definir una variable `frase` a la que adicionar las palaras\n",
    "\n",
    "### Ejercicios extras\n",
    "1. Escribir un programa que permita ingresar un número llamado valor_objetivo. Luego, se debe pedir al usuario que ingrese números por consola hasta que la suma de los números ingresados sea mayor o igual que valor_objetivo\n",
    "\n",
    "2. Escribir un programa que le permita a una persona ingresar 10 números. Al finalizar, calcular la media, el máximo y el mínimo entre esos valores\n",
    "\n",
    "3. Escribir un programa que le permita al usuario ingresar la lista del supermercado. Para finalizar la lista, se deberá ingresar el símbolo * Imprimir la lista del supermercado\n",
    "\n",
    "4. Volvemos al ejercicio de la clase anterior donde segmentamos a la población por edades. Escribir un programa dónde se ingresen 10 edades y devuelva la cantidad de personas en cada grupo etario\n"
   ]
  },
  {
   "cell_type": "code",
   "execution_count": null,
   "id": "27cf5cea",
   "metadata": {},
   "outputs": [],
   "source": []
  },
  {
   "cell_type": "code",
   "execution_count": null,
   "id": "10c47587",
   "metadata": {},
   "outputs": [],
   "source": []
  },
  {
   "cell_type": "code",
   "execution_count": null,
   "id": "3e8cb678",
   "metadata": {},
   "outputs": [],
   "source": []
  }
 ],
 "metadata": {
  "kernelspec": {
   "display_name": "tuia",
   "language": "python",
   "name": "tuia"
  },
  "language_info": {
   "codemirror_mode": {
    "name": "ipython",
    "version": 3
   },
   "file_extension": ".py",
   "mimetype": "text/x-python",
   "name": "python",
   "nbconvert_exporter": "python",
   "pygments_lexer": "ipython3",
   "version": "3.8.10"
  }
 },
 "nbformat": 4,
 "nbformat_minor": 5
}
