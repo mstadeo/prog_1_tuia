{
 "cells": [
  {
   "cell_type": "markdown",
   "id": "248f4053",
   "metadata": {},
   "source": [
    "# Ejercicios clase 10 Funciones."
   ]
  },
  {
   "cell_type": "markdown",
   "id": "a190f2ff",
   "metadata": {},
   "source": [
    "1. Realizar una función que calcule la suma de dos números. En el algoritmo principal le pediremos\n",
    "al usuario que ingrese por consola los dos números para pasárselos a la función. Después la función\n",
    "calculará la suma y lo devolverá para imprimirlo en el algoritmo.\n"
   ]
  },
  {
   "cell_type": "markdown",
   "id": "ee76278a",
   "metadata": {},
   "source": [
    "4. Escribir una función que recibe los catetos de un triángulo y calcule su hipotenusa.\n"
   ]
  },
  {
   "cell_type": "markdown",
   "id": "92cb9b5e",
   "metadata": {},
   "source": [
    "6. Realizar un programa que pida al usuario una frase y una letra a buscar en esa frase. La función debe\n",
    "devolver la cantidad de veces que encontró la letra.\n"
   ]
  },
  {
   "cell_type": "markdown",
   "id": "29389b29",
   "metadata": {},
   "source": [
    "10. Realizar un menú similar a una calculadora. Funciones:\n",
    "* Suma(num1, num2)\n",
    "* Resta(num1, num2)\n",
    "* Division(num1, num2)\n",
    "* Multiplicacion(num1, num2)\n",
    "* Factorial(num)\n",
    "* Salir\n",
    "\n",
    "\n"
   ]
  },
  {
   "cell_type": "code",
   "execution_count": null,
   "id": "81a2a77b",
   "metadata": {},
   "outputs": [],
   "source": []
  }
 ],
 "metadata": {
  "kernelspec": {
   "display_name": "Python 3 (ipykernel)",
   "language": "python",
   "name": "python3"
  },
  "language_info": {
   "codemirror_mode": {
    "name": "ipython",
    "version": 3
   },
   "file_extension": ".py",
   "mimetype": "text/x-python",
   "name": "python",
   "nbconvert_exporter": "python",
   "pygments_lexer": "ipython3",
   "version": "3.8.10"
  }
 },
 "nbformat": 4,
 "nbformat_minor": 5
}
