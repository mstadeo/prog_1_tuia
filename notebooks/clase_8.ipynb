{
 "cells": [
  {
   "cell_type": "markdown",
   "id": "678cab4d",
   "metadata": {},
   "source": [
    "### Ejercicios de la práctica 6\n",
    "Nota: Esta práctica es para ejercitar la creación de funciones, por lo tanto, deben usarse las mismas para resolver los ejercicios. Además, al escribir una función recuerde documentarla de la forma correcta,"
   ]
  },
  {
   "cell_type": "markdown",
   "id": "cbe49916",
   "metadata": {},
   "source": [
    "1. Escribir una función en Python que calcule la longitud de una cadena. Nota, no utilizar la función len."
   ]
  },
  {
   "cell_type": "code",
   "execution_count": null,
   "id": "7be77510",
   "metadata": {},
   "outputs": [],
   "source": []
  },
  {
   "cell_type": "markdown",
   "id": "7a8daaae",
   "metadata": {},
   "source": [
    "2. Escribir una función en Python que se encargue de calcular la hipotenusa de un triángulo basándose en los catetos. "
   ]
  },
  {
   "cell_type": "code",
   "execution_count": null,
   "id": "3cf216e2",
   "metadata": {},
   "outputs": [],
   "source": []
  },
  {
   "cell_type": "markdown",
   "id": "e9802de7",
   "metadata": {},
   "source": [
    "3. Realizar una función que calcule la suma de dos números. En el algoritmo principal le pediremos al usuario que ingrese por consola los dos números para pasárselos a la función. Después la función calculará la suma y lo devolverá para imprimirlo en el algoritmo."
   ]
  },
  {
   "cell_type": "code",
   "execution_count": null,
   "id": "586be143",
   "metadata": {},
   "outputs": [],
   "source": []
  },
  {
   "cell_type": "markdown",
   "id": "3115cf26",
   "metadata": {},
   "source": [
    "4. Realizar una función que valide si un numero es impar o no. Si es impar la función debe devolver un verdadero, si no es impar debe devolver falso. Nota: la función no debe tener mensajes que digan si es par o no, eso debe pasar en el Algoritmo.\n"
   ]
  },
  {
   "cell_type": "code",
   "execution_count": null,
   "id": "7026e185",
   "metadata": {},
   "outputs": [],
   "source": []
  },
  {
   "cell_type": "code",
   "execution_count": null,
   "id": "f710f7d5",
   "metadata": {},
   "outputs": [],
   "source": []
  }
 ],
 "metadata": {
  "kernelspec": {
   "display_name": "tuia",
   "language": "python",
   "name": "tuia"
  },
  "language_info": {
   "codemirror_mode": {
    "name": "ipython",
    "version": 3
   },
   "file_extension": ".py",
   "mimetype": "text/x-python",
   "name": "python",
   "nbconvert_exporter": "python",
   "pygments_lexer": "ipython3",
   "version": "3.8.10"
  }
 },
 "nbformat": 4,
 "nbformat_minor": 5
}
