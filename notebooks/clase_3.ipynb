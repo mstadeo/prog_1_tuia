{
 "cells": [
  {
   "cell_type": "code",
   "execution_count": 1,
   "id": "eb0d1bbc",
   "metadata": {},
   "outputs": [
    {
     "data": {
      "text/html": [
       "<style>.container{width:100% !important;} </style>"
      ],
      "text/plain": [
       "<IPython.core.display.HTML object>"
      ]
     },
     "metadata": {},
     "output_type": "display_data"
    }
   ],
   "source": [
    "from IPython.display import display, HTML\n",
    "display(HTML('<style>.container{width:100% !important;} </style>'))"
   ]
  },
  {
   "cell_type": "markdown",
   "id": "62dad7d1",
   "metadata": {},
   "source": [
    "## Clase 3 de Programación 1\n",
    "Agenda:\n",
    "1. Introducción\n",
    "2. Operadores relacionales\n",
    "3. Operadores lógicos\n",
    "4. Condicional\n",
    "5. Condicional añidado"
   ]
  },
  {
   "cell_type": "markdown",
   "id": "38d7e73f",
   "metadata": {},
   "source": [
    "### 1. Introducción\n",
    "Hasta aquí hemos visto expresiones que  contienen operadores aritméticos (), %, **, *, +,-.\n",
    "\n",
    "Hemos ASIGNADO datos a nombres que representan lugares en la memoria de la máquina (las variables) donde se guardan esos valores asignados. Además, estudiamos que estos datos pueden ser de tipo: Enteros, Reales, Caracteres, Booleanos.\n",
    "\n",
    "En programación vamos a encontrar expresiones más complejas, que utilizan operadores aritméticos pero también incluyen otros tipos de operadores.\n"
   ]
  },
  {
   "cell_type": "markdown",
   "id": "d8bd74de",
   "metadata": {},
   "source": [
    "### 2. Operadores relacionales\n",
    "Sirven para comparar dos valores y el resultado de la comparación es un dato de tipo Booleano, True o False. El simbolo == es el primer operador relacional (aquí se entiende la razón porque decíamos en la primer clase que el = solo no indicaba una ecuación). Se necesitan dos == para comparar si dos entidades son iguales. Pero existen otros operadores\n",
    "- Igual: ==\n",
    "- Diferente: !=\n",
    "- Mayor: >\n",
    "- Menor: <\n",
    "- Mayor igual: >=\n",
    "- Menor igual: <=\n",
    "\n",
    "Veamos algunos ejemplos."
   ]
  },
  {
   "cell_type": "markdown",
   "id": "abca5865",
   "metadata": {},
   "source": [
    "En relación al orden de valores numéricos."
   ]
  },
  {
   "cell_type": "code",
   "execution_count": null,
   "id": "eeb5c214",
   "metadata": {},
   "outputs": [],
   "source": [
    "# Igualdad o desigualdad\n",
    "print(3 == 3.0)\n",
    "print(3 == '3')\n",
    "print(3 != 3.0)"
   ]
  },
  {
   "cell_type": "code",
   "execution_count": null,
   "id": "e68ed550",
   "metadata": {},
   "outputs": [],
   "source": [
    "# mayor, mayor igual , menor y menor igual\n",
    "print(5 > 2)\n",
    "print(5 >= 5.0)"
   ]
  },
  {
   "cell_type": "code",
   "execution_count": null,
   "id": "ce4dd86f",
   "metadata": {},
   "outputs": [],
   "source": [
    "print(3 == '3')"
   ]
  },
  {
   "cell_type": "code",
   "execution_count": null,
   "id": "c48bdc3e",
   "metadata": {},
   "outputs": [],
   "source": [
    "a = 1\n",
    "b = 2\n",
    "c = 1\n",
    "\n",
    "print('Hagamos unas evaluaciones')\n",
    "print('a es igual a b?: ' + str(a == b))"
   ]
  },
  {
   "cell_type": "code",
   "execution_count": null,
   "id": "2d31c362",
   "metadata": {},
   "outputs": [],
   "source": [
    "print('a es igual a c?: ' + str(a == c))"
   ]
  },
  {
   "cell_type": "code",
   "execution_count": null,
   "id": "bc6a3a2d",
   "metadata": {},
   "outputs": [],
   "source": [
    "print('a es diferente a b?: ' + str(a != b))"
   ]
  },
  {
   "cell_type": "code",
   "execution_count": null,
   "id": "1ccc7a3a",
   "metadata": {},
   "outputs": [],
   "source": [
    "print('a es mayor a b?: ' + str(a > b))"
   ]
  },
  {
   "cell_type": "code",
   "execution_count": null,
   "id": "0384345c",
   "metadata": {},
   "outputs": [],
   "source": []
  },
  {
   "cell_type": "markdown",
   "id": "0afe0f78",
   "metadata": {},
   "source": [
    "El uso con los caracteres"
   ]
  },
  {
   "cell_type": "code",
   "execution_count": null,
   "id": "83d2568d",
   "metadata": {},
   "outputs": [],
   "source": [
    "# También los podemos usar con el orden ortográfico.\n",
    "print(\"a\" > \"b\")\n",
    "print(\"b\" > \"a\")"
   ]
  },
  {
   "cell_type": "code",
   "execution_count": null,
   "id": "034b4901",
   "metadata": {},
   "outputs": [],
   "source": [
    "ord('a'), ord('b'), ord('c')"
   ]
  },
  {
   "cell_type": "code",
   "execution_count": null,
   "id": "6a198bcd",
   "metadata": {},
   "outputs": [],
   "source": [
    "# Pero cuidado!!!  Ese orden no se conserva con las mayúsculas y minúsculas\n",
    "print(\"A\" == \"a\")\n",
    "print(\"a\" > \"A\")"
   ]
  },
  {
   "cell_type": "code",
   "execution_count": null,
   "id": "8f061785",
   "metadata": {},
   "outputs": [],
   "source": [
    "ord('A'), ord('a')"
   ]
  },
  {
   "cell_type": "code",
   "execution_count": null,
   "id": "52512503",
   "metadata": {},
   "outputs": [],
   "source": [
    "ord('n'), ord('ñ'), ord('o')"
   ]
  },
  {
   "cell_type": "markdown",
   "id": "dba691c7",
   "metadata": {},
   "source": [
    "También entre cadenas de más de un caracter."
   ]
  },
  {
   "cell_type": "code",
   "execution_count": null,
   "id": "b3256188",
   "metadata": {},
   "outputs": [],
   "source": [
    "son_iguales = \"trapo\" == \"trapo\"\n",
    "print(son_iguales)"
   ]
  },
  {
   "cell_type": "code",
   "execution_count": null,
   "id": "0b250982",
   "metadata": {},
   "outputs": [],
   "source": [
    "no_son_iguales = \"pañuelo\" == \" pañuelo\"\n",
    "print(no_son_iguales)"
   ]
  },
  {
   "cell_type": "markdown",
   "id": "b7136c14",
   "metadata": {},
   "source": [
    "### 2. Operadores lógicos\n",
    "Nos permiten evaluar más de una condición:\n",
    "- and \n",
    "- or \n",
    "- not \n",
    "- xor \n",
    "\n",
    "Estos operadores representan la intersección, la union, el ejemplo del prendido de la luz doble y lo opuesto."
   ]
  },
  {
   "cell_type": "markdown",
   "id": "eed5db44",
   "metadata": {},
   "source": [
    "El operador `and` es la interseccion, y lo usamos cuando queremos que varias condiciones se cumplan al unisono."
   ]
  },
  {
   "cell_type": "code",
   "execution_count": null,
   "id": "a7486f34",
   "metadata": {},
   "outputs": [],
   "source": [
    "5 >= 3,\"A\" < \"B\""
   ]
  },
  {
   "cell_type": "code",
   "execution_count": null,
   "id": "8222bcc7",
   "metadata": {},
   "outputs": [],
   "source": [
    "dos_verdaderas_and = (5 >= 3) and (\"A\" < \"B\")\n",
    "print(dos_verdaderas_and)  ## True and True --> True\n",
    "\n",
    "dos_Falsas_and = (5 < 3) and (\"A\" > \"B\")\n",
    "print(dos_Falsas_and)  ## False and False   -- > False\n",
    "\n",
    "una_verdad_una_falsa_and = (5 > 3) and (\"A\" > \"B\")\n",
    "print(una_verdad_una_falsa_and)  ## True and False  --> False"
   ]
  },
  {
   "cell_type": "markdown",
   "id": "0b610e50",
   "metadata": {},
   "source": [
    "El operador `or` es la unidad, y lo usamos cuando queremos que por lo menos se cumplan una."
   ]
  },
  {
   "cell_type": "code",
   "execution_count": null,
   "id": "0d92b953",
   "metadata": {},
   "outputs": [],
   "source": [
    "dos_verdaderas_or = (5 >= 3) or (\"A\" < \"B\")\n",
    "print(dos_verdaderas_or)  ## True and True --> True\n",
    "\n",
    "dos_Falsas_or = (5 < 3) or (\"A\" > \"B\")\n",
    "print(dos_Falsas_or)  ## False and False   -- > False\n",
    "\n",
    "una_verdad_una_falsa_or = (5 > 3) or (\"A\" > \"B\")\n",
    "print(una_verdad_una_falsa_or)  ## True and False  --> True"
   ]
  },
  {
   "cell_type": "markdown",
   "id": "1339fda6",
   "metadata": {},
   "source": [
    "El operador `not` sirve para obtener el opuesto/negar la expresión analizada"
   ]
  },
  {
   "cell_type": "code",
   "execution_count": null,
   "id": "8d5ea09d",
   "metadata": {},
   "outputs": [],
   "source": [
    "como_dice = True\n",
    "como_dice_not = not(como_dice)\n",
    "\n",
    "print(como_dice, como_dice_not)"
   ]
  },
  {
   "cell_type": "markdown",
   "id": "439cfcb9",
   "metadata": {},
   "source": [
    "OPERACIONES MAS COMPLEJAS - EJEMPLOS"
   ]
  },
  {
   "cell_type": "code",
   "execution_count": null,
   "id": "4b75a193",
   "metadata": {},
   "outputs": [],
   "source": [
    "que_verdad = 2**4 < (23 * 1) and len(\"cuantasletrashay\") > 10\n",
    "print(que_verdad)\n",
    "\n",
    "prueba1 = not (True == (2 < 1) or 5**2 == 25)\n",
    "print(prueba1)\n",
    "\n",
    "prueba2 = not True != (144**(1 / 2) == 12)\n",
    "print(prueba2)"
   ]
  },
  {
   "cell_type": "code",
   "execution_count": null,
   "id": "18ad7904",
   "metadata": {},
   "outputs": [],
   "source": [
    "### pero veamos este\n",
    "\n",
    "a_que_este_no_seguro = not True != 144**(1 / 2) == 12\n",
    "print(a_que_este_no_seguro)\n",
    "# que paso acá"
   ]
  },
  {
   "cell_type": "markdown",
   "id": "cab65240",
   "metadata": {},
   "source": [
    "Veamos un ejemplo un poco más aplicado:\n",
    "realizar estudios sociodemográficos es común clasificar a los hogares por tipos. Por ejemplo:\n",
    "- Tipo 1: tamaño == 1, cuartil_ingreso <= 2,  sin hijos\n",
    "- Tipo 2: tamaño == 1, cuartil_ingreso <= 2,  con hijos\n",
    "- Tipo 3: tamaño == 1, cuartil_ingreso > 2,  sin hijos\n",
    "- Tipo 4: tamaño == 1, cuartil_ingreso > 2,  con hijos\n",
    "- Tipo 5: tamaño > 1, cuartil_ingreso <= 2,  sin hijos\n",
    "- Tipo 6: tamaño > 1, cuartil_ingreso <= 2,  con hijos\n",
    "- Tipo 7: tamaño > 1, cuartil_ingreso > 2,  sin hijos\n",
    "- Tipo 8: tamaño > 1, cuartil_ingreso > 2,  con hijos"
   ]
  },
  {
   "cell_type": "code",
   "execution_count": null,
   "id": "45bcc57d",
   "metadata": {},
   "outputs": [],
   "source": [
    "# Hogar N1\n",
    "tam = 5\n",
    "cuartil_ingreso = 3\n",
    "hijos = 2"
   ]
  },
  {
   "cell_type": "code",
   "execution_count": null,
   "id": "ca69c10e",
   "metadata": {},
   "outputs": [],
   "source": [
    "# Probemos si N1 es de tipo 1\n",
    "print((tam == 1) and (cuartil_ingreso <= 2) and (hijos == 0))\n",
    "print(tam == 1, cuartil_ingreso <= 2 , hijos == 0)"
   ]
  },
  {
   "cell_type": "code",
   "execution_count": null,
   "id": "b8d4b3a2",
   "metadata": {},
   "outputs": [],
   "source": [
    "# Probemos si N1 es de tipo 5\n",
    "print((tam > 1) and (cuartil_ingreso <= 2) and (hijos == 0))\n",
    "print((tam > 1) , (cuartil_ingreso <= 2) , (hijos == 0))"
   ]
  },
  {
   "cell_type": "code",
   "execution_count": null,
   "id": "462be26d",
   "metadata": {},
   "outputs": [],
   "source": [
    "# Probemos si N1 es de tipo 8\n",
    "print((tam > 1) and (cuartil_ingreso > 2) and (hijos > 0))\n",
    "print((tam > 1) , (cuartil_ingreso > 2) , (hijos > 0))"
   ]
  },
  {
   "cell_type": "code",
   "execution_count": null,
   "id": "c944b17d",
   "metadata": {},
   "outputs": [],
   "source": []
  },
  {
   "cell_type": "markdown",
   "id": "a2a0beda",
   "metadata": {},
   "source": [
    "Pero por qué estamos viendo todos estos operadores?\n",
    "Porque con su uso en interaccion con otros elemetos de la programación podremos tener el CONTROL DE FLUJO del programa.\n",
    "\n",
    "Dentro de los elementos de control de flujo hoy veremos los CONDICIONALES\n",
    "\n",
    "La palabra clave para evaluar si se cumple una condición, al igual que en nuestra lengua es el SI escrito en inglés, IF. Y su estructura es:\n",
    "\n",
    "`if condición:\n",
    "  acción a tomar si la condición es verdadera` "
   ]
  },
  {
   "cell_type": "code",
   "execution_count": 3,
   "id": "837188f3",
   "metadata": {},
   "outputs": [
    {
     "name": "stdout",
     "output_type": "stream",
     "text": [
      "x es positiva\n",
      "final\n"
     ]
    }
   ],
   "source": [
    "#evaluar si x es positiva\n",
    "x = 3\n",
    "if x > 0:\n",
    "    print('x es positiva')\n",
    "    \n",
    "print('final')"
   ]
  },
  {
   "cell_type": "markdown",
   "id": "afaf4949",
   "metadata": {},
   "source": [
    "Otra forma de declaración es usando alternativas, \"si..pasa esto ...entonces ....la respuesta será esto otro\". Como en python los comando estan programados en inglés, esto deberá ser en inglés, o sea : \"if\"  en lugar del \"si\", \"else\" en lugar de si no.\n",
    "\n",
    "En otros lenguajes la sentencia que se ejecuta al cumplirse la condicion debe estar entre llaves por ejemplo. Python es tan similar al idioma que utiliza los dos puntos:. La estructura de un condicional en Python es la siguiente:\n",
    "```if (condicion):\n",
    "  acción a tomar si la condición es verdadera\n",
    "else:\n",
    "  acción a tomar si la condición es false```"
   ]
  },
  {
   "cell_type": "code",
   "execution_count": null,
   "id": "0e5f5bbe",
   "metadata": {},
   "outputs": [],
   "source": [
    "# Un ejemplo clásico. Decidir si un número es par o impar."
   ]
  },
  {
   "cell_type": "code",
   "execution_count": null,
   "id": "0edf3e73",
   "metadata": {},
   "outputs": [],
   "source": []
  },
  {
   "cell_type": "code",
   "execution_count": 4,
   "id": "4dde15c4",
   "metadata": {},
   "outputs": [
    {
     "name": "stdout",
     "output_type": "stream",
     "text": [
      "Ingrese un numero: 6\n",
      "El número es par\n"
     ]
    }
   ],
   "source": [
    "num = input(\"Ingrese un numero: \")\n",
    "if int(float(num)) % 2 == 0:\n",
    "    print(\"El número es par\")\n",
    "else:\n",
    "    print(\"Es un número impar\")"
   ]
  },
  {
   "cell_type": "code",
   "execution_count": null,
   "id": "330816e6",
   "metadata": {},
   "outputs": [],
   "source": []
  },
  {
   "cell_type": "markdown",
   "id": "8f53dd92",
   "metadata": {},
   "source": [
    "También podemos generar un flujo con más de 2 opciones posibles, lo que se conoce como condiciones encadenadas. Para esto se utiliza una nueva palabra clave \"elif\" que es una abreviatura de \"else if\" y quiere decir  \"si no, si\" y nos permite encadenar otras posibilidades del condicionamiento del flujo.'''\n"
   ]
  },
  {
   "cell_type": "code",
   "execution_count": 16,
   "id": "0261a238",
   "metadata": {},
   "outputs": [],
   "source": [
    "edad = int(input(\"Ingrese la edad del individuo: \"))\n",
    "\n",
    "if edad <= 12:\n",
    "    print(\"Es un niña/o\")\n",
    "elif edad < 18:\n",
    "    print(\"Es una persona joven, menor de edad\")\n",
    "elif edad <= 65:\n",
    "    print(\"Es un adulto, posiblemente en actividad\")\n",
    "else:\n",
    "    print(\"Es persona eque puede optar por el retiro.\")"
   ]
  },
  {
   "cell_type": "code",
   "execution_count": null,
   "id": "4c651c3d",
   "metadata": {},
   "outputs": [],
   "source": [
    "# Pero... elif que diferencia tiene de usar más if secuencialmente......\n",
    "if edad <= 12:\n",
    "    print(\"Es un niña/o\")\n",
    "if (edad > 12) and (edad < 18):\n",
    "    print(\"Es una persona joven, menor de edad\")\n",
    "if edad >= 18 and edad <= 65:\n",
    "    print(\"Es un adulto, posiblemente en actividad\")\n",
    "else:\n",
    "    print(\"Es persona eque puede optar por el retiro.\")"
   ]
  },
  {
   "cell_type": "markdown",
   "id": "d21941e4",
   "metadata": {},
   "source": [
    "Los flujos condicionales pueden estar ANIDADOS\n",
    "Retomemos el ejemplo de Arabia Saudí y Argentina.\n",
    "Podemos usar condicional para hacer un poco más complejo el programa y más directa la salida."
   ]
  },
  {
   "cell_type": "code",
   "execution_count": 3,
   "id": "4bb222ef",
   "metadata": {},
   "outputs": [
    {
     "name": "stdout",
     "output_type": "stream",
     "text": [
      "Ingrese el equipo que hizo el gol, VAR si fue fuera de juegoArg\n"
     ]
    }
   ],
   "source": [
    "intensidad = int(input(\" 2 si es de Arabia y 30 si es de Argentina:   \"))\n",
    "equipo = input(\"Ingrese el equipo que hizo el gol, VAR si fue fuera de juego\")\n",
    "# ASIGNAMOS el gol.\n",
    "# gol = \"G\" + intensidad * \"0\" + \"L!\"\n",
    "\n",
    "# ASIGNAMOS los complementos del relato según selección.\n",
    "Arabia = \" de la selección Saudí que sorprende a la escuadra Argentina\"\n",
    "Argentina = \" de la Scaloneta que arranca con todo en Qatar 2022\"\n",
    "\n",
    "# Utilicemos, entonces  condicionales\n",
    "if intensidad:\n",
    "    gol = \"G\" + intensidad * \"0\" + \"L!\"\n",
    "    if equipo == \"Argentina\":\n",
    "        relato = (gol + Argentina)\n",
    "        print(relato)\n",
    "    elif equipo == 'Arabia':\n",
    "        relato = (gol + Arabia)\n",
    "        print(relato)\n",
    "    elif equipo == 'VAR':\n",
    "        print(gol + \"...NO, el arbitro lo anulo por el VAR\")\n",
    "    else:\n",
    "        print('Valores aceptados: Argentina, Arabia, VAR')"
   ]
  },
  {
   "cell_type": "markdown",
   "id": "e9e654e0",
   "metadata": {},
   "source": [
    "### Ejercicio de clase:\n",
    "Escribir un programa que dados el tamaño, el cuartil de ingresos y la cantidad de hijos que tiene un hogar, devuelva el tipo de hogar según lo mostrado arriba\n"
   ]
  },
  {
   "cell_type": "markdown",
   "id": "91dfabfc",
   "metadata": {},
   "source": [
    "Bibliografía:\n",
    "- Downey, A. 2016. \"Think Python, How to think like a computer scientist\". Publicado por O'Reilly"
   ]
  },
  {
   "cell_type": "code",
   "execution_count": null,
   "id": "a1445913",
   "metadata": {},
   "outputs": [],
   "source": []
  }
 ],
 "metadata": {
  "kernelspec": {
   "display_name": "tuia",
   "language": "python",
   "name": "tuia"
  },
  "language_info": {
   "codemirror_mode": {
    "name": "ipython",
    "version": 3
   },
   "file_extension": ".py",
   "mimetype": "text/x-python",
   "name": "python",
   "nbconvert_exporter": "python",
   "pygments_lexer": "ipython3",
   "version": "3.8.10"
  }
 },
 "nbformat": 4,
 "nbformat_minor": 5
}
