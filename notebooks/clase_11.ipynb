{
 "cells": [
  {
   "attachments": {},
   "cell_type": "markdown",
   "id": "3a70f423",
   "metadata": {},
   "source": [
    "### Seguimos con las funciones"
   ]
  },
  {
   "cell_type": "markdown",
   "id": "b361163d",
   "metadata": {},
   "source": [
    "#### Entrada en calor"
   ]
  },
  {
   "cell_type": "markdown",
   "id": "bb378682",
   "metadata": {},
   "source": [
    "Escribir una función que reciba una lista de números y retorne una lista con los números pares y otra con los números impares."
   ]
  },
  {
   "cell_type": "code",
   "execution_count": null,
   "id": "6afaf1ca",
   "metadata": {},
   "outputs": [],
   "source": []
  },
  {
   "cell_type": "markdown",
   "id": "f766a43d",
   "metadata": {},
   "source": [
    "Escribir una función que calcule la distancia entre dos puntos en el plano. Los puntos deberán ingresar a la función como tuplas."
   ]
  },
  {
   "cell_type": "code",
   "execution_count": null,
   "id": "09497023",
   "metadata": {},
   "outputs": [],
   "source": []
  },
  {
   "cell_type": "markdown",
   "id": "a6103222",
   "metadata": {},
   "source": [
    "#### Ejericios de práctica"
   ]
  },
  {
   "cell_type": "markdown",
   "id": "3c1696a9",
   "metadata": {},
   "source": [
    "Escribir un programa de Python que le permita al usuario ingresar la fecha y hora de despegue de dos vuelos y devuelva la diferencia en minutos entre los mismas. El ingreso de la fecha y hora debe tener el formato ‘DD/MM/AAAA - hh:mm:ss‘.\n",
    "\n",
    "Desafío extra: Validar la fecha y hora ingresada. Por ejemplo, el mes no puede ser  superior a 12, la fecha no puede ser en el futuro, las horas no pueden ser mayores a 24, etc."
   ]
  },
  {
   "cell_type": "code",
   "execution_count": null,
   "id": "98e1835e",
   "metadata": {},
   "outputs": [],
   "source": []
  },
  {
   "attachments": {
    "image.png": {
     "image/png": "[encoded data removed]"
    }
   },
   "cell_type": "markdown",
   "id": "df0a39ab",
   "metadata": {},
   "source": [
    "El departamento contable de una fábrica necesita una función que les permita calcular el salario mensual de sus trabajadores. La fábrica cuenta con una planilla donde tiene el número de trabajador y la cantidad de horas trabajadas en el mes durante el día, durante la noche, y los domingos o feriados. El salario por hora es:\n",
    "\n",
    "![image.png](attachment:image.png)\n",
    "Generar la función solicitada"
   ]
  },
  {
   "cell_type": "code",
   "execution_count": null,
   "id": "1c5b183b",
   "metadata": {},
   "outputs": [],
   "source": []
  },
  {
   "cell_type": "markdown",
   "id": "910cca3c",
   "metadata": {},
   "source": [
    "Generar una función que dadas dos letras del abecedario español, nos indique cuál tiene un orden alfabético menor a la otra. Es decir, cuando recitamos el abecedario, cuál aparece primero. Pista: función ord built-in de Python. Pista 2: No se olviden de la ñ"
   ]
  },
  {
   "cell_type": "code",
   "execution_count": null,
   "id": "a762e6c1",
   "metadata": {},
   "outputs": [],
   "source": []
  }
 ],
 "metadata": {
  "kernelspec": {
   "display_name": "tuia",
   "language": "python",
   "name": "tuia"
  },
  "language_info": {
   "codemirror_mode": {
    "name": "ipython",
    "version": 3
   },
   "file_extension": ".py",
   "mimetype": "text/x-python",
   "name": "python",
   "nbconvert_exporter": "python",
   "pygments_lexer": "ipython3",
   "version": "3.8.10"
  }
 },
 "nbformat": 4,
 "nbformat_minor": 5
}
