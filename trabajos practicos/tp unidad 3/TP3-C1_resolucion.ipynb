{
  "nbformat": 4,
  "nbformat_minor": 0,
  "metadata": {
    "colab": {
      "name": "c1_tp3.ipynb",
      "provenance": []
    },
    "kernelspec": {
      "name": "python3",
      "display_name": "Python 3"
    },
    "language_info": {
      "name": "python"
    }
  },
  "cells": [
    {
      "cell_type": "markdown",
      "source": [
        "**EJERCICIO 1**  \n",
        "Dada una contraseña verificar que su longitud es superior a 8 caracteres "
      ],
      "metadata": {
        "id": "KstRDwFPfKpu"
      }
    },
    {
      "cell_type": "code",
      "source": [
        "password = input(\"Ingrese la contraseña: \")\n",
        "\n",
        "largo = len(password)\n",
        "\n",
        "if largo > 8:\n",
        "\tprint(\"Contraseña aceptada\")\n",
        "else:\n",
        "\tprint(\"La contraseña debe tener más de 8 caracteres\")"
      ],
      "metadata": {
        "id": "K50Ec5rsfiu-"
      },
      "execution_count": null,
      "outputs": []
    },
    {
      "cell_type": "markdown",
      "source": [
        "**EJERCICIO 2** \n",
        "\n",
        "Dados 3 lados de un triángulo, informar si el mismo es equilátero, isósceles o escaleno."
      ],
      "metadata": {
        "id": "cdsjPVrygFe9"
      }
    },
    {
      "cell_type": "code",
      "source": [
        "lado1, lado2, lado3 = int(input(\"Ingrese los lados de un triangulo: \\n\")) , int(input()), int(input())\n",
        "\n",
        "if lado1 == lado2 and lado2 == lado3:\n",
        "    print(\"El triangulo es equilatero\")\n",
        "elif lado1 == lado2 or lado2 == lado3 or lado1 == lado3:\n",
        "    print(\"El triangulo es isosceles\")\n",
        "else:\n",
        "    print(\"El triangulo es escaleno\")"
      ],
      "metadata": {
        "id": "knGsno5zgZFt"
      },
      "execution_count": null,
      "outputs": []
    },
    {
      "cell_type": "markdown",
      "source": [
        "**EJERCICIO 3**\n",
        "En el centro de la ciudad de Rosario el estacionamiento en vía se encuentra tarifado y está dividido\n",
        "en tres zonas con tarifas diferenciadas. El vehículo puede estacionarse como máximo por 3 horas en\n",
        "el mismo sitio, luego de este tiempo, para renovar el servicio, hay que mover el vehículo. La siguinte\n",
        "tabla muestra los costos por hora en cada una de las zonas:\n",
        "\n",
        "     Zona Primer hora Segunda hora Tercer Hora\n",
        "     A    $57,00      $71,20       $85,50\n",
        "     B    $47,00      $58,70       $70,50\n",
        "     C    $37,00      $46,20       $55,50\n"
      ],
      "metadata": {
        "id": "DHGNMXiGdMrU"
      }
    },
    {
      "cell_type": "code",
      "execution_count": null,
      "metadata": {
        "id": "rcMoNCZTdLMN"
      },
      "outputs": [],
      "source": [
        "zona = input(\"Elija la zona en la que se va a estacionar (A, B o C): \")\n",
        "tiempo = int(input(\"Ingrese cuantas horas va a estar estacionado: \"))\n",
        "bandera = True # si los valores ingresados son correctos continua con el programa \n",
        "\n",
        "if tiempo <= 0:\n",
        "  bandera = False\n",
        "  print(\"Error, la cantidad de horas debe ser menor o igual a 3\")\n",
        "elif tiempo > 3:\n",
        "  bandera = False\n",
        "  print(\"Debe mover el auto para renovar el servicio\")\n",
        "\n",
        "if zona ==\"A\" and zona ==\"B\" and zona ==\"C\":\n",
        "  bandera = False\n",
        "  print(\"Zona incorrecta, ingrese A, B o C\")\n",
        "\n",
        "if bandera:\n",
        "  if zona == \"A\":\n",
        "    if tiempo == 1:\n",
        "      print(\"El costo a pagar es 57.00\")\n",
        "    elif tiempo == 2:\n",
        "      print(\"El costo a pagar es 128.20\")\n",
        "    elif tiempo == 3:\n",
        "      print(\"El costo a pagar es 213.70\")\n",
        "\n",
        "  elif zona == \"B\":\n",
        "    if tiempo == 1:\n",
        "      print(\"El costo a pagar es 47.00\")\n",
        "    if tiempo == 2:\n",
        "      print(\"El costo a pagar es 105.70\")\n",
        "    elif tiempo == 3:\n",
        "      print(\"El costo a pagar es 176.20\")\n",
        "\n",
        "  else:\n",
        "    if tiempo == 1:\n",
        "      print(\"El costo a pagar es 37.00\")\n",
        "    elif tiempo == 2:\n",
        "      print(\"El costo a pagar es 83.20\")\n",
        "    elif tiempo == 3:\n",
        "      print(\"El costo a pagar es 138.70\")\n"
      ]
    },
    {
      "cell_type": "markdown",
      "source": [
        "**EJERCICIO 4**\n",
        "\n",
        "Una marca de ropa tienen descuentos diferentes dependiendo de la sede del local:\n",
        "\n",
        "       Item        Rosario   Funes   Roldán   \n",
        "       Zapatillas  30%       40%     25%       \n",
        "       Remeras     20%       30%     15%     \n",
        "       Pantalones  10%       5%      20%     \n",
        "Dado un item y la sede del local, devolver el descuento que se recibirá."
      ],
      "metadata": {
        "id": "FKtg4RCahENH"
      }
    },
    {
      "cell_type": "code",
      "source": [
        "item = input(\"Ingrese el item Z (Zapatillas), R (Remera) o P (Pantalón): \")\n",
        "item = item.upper()\n",
        "if item == 'Z' or item == 'R' or item == 'P':\n",
        "  sede = input(\"Ingrese la sede R (Rosario), F (Funes) o L (Roldán): \")\n",
        "  sede = sede.upper()\n",
        "  if sede == 'R' or sede == 'F' or sede == 'L':\n",
        "    if (sede == \"R\"):\n",
        "      if(item == \"Z\"):\n",
        "        print(\"Se aplica un descuento del 30%\")\n",
        "      elif(item == \"R\"):\n",
        "        print(\"Se aplica un descuento del 20%\")\n",
        "      elif(item == \"P\"):\n",
        "        print(\"Se aplica un descuento del 10%\")\n",
        "    \n",
        "    elif (sede == \"F\"):\n",
        "      if(item == \"Z\"):\n",
        "        print(\"Se aplica un descuento del 40%\")\n",
        "      elif(item == \"R\"):\n",
        "        print(\"Se aplica un descuento del 30%\")\n",
        "      elif(item == \"P\"):\n",
        "        print(\"Se aplica un descuento del 5%\")\n",
        "\n",
        "    elif (sede == \"L\"):\n",
        "      if(item == \"Z\"):\n",
        "        print(\"Se aplica un descuento del 25%\")\n",
        "      elif(item == \"R\"):\n",
        "        print(\"Se aplica un descuento del 15%\")\n",
        "      elif(item == \"P\"):\n",
        "        print(\"Se aplica un descuento del 20%\")\n",
        "  else:\n",
        "    print('No ingresó correctamente la letra para identificar la sede')\n",
        "else:\n",
        "  print('No ingresó correctamente la letra para identificar el ítem')"
      ],
      "metadata": {
        "id": "EdszGubblKXY"
      },
      "execution_count": null,
      "outputs": []
    },
    {
      "cell_type": "markdown",
      "source": [
        "**EJERCICIO 5**\n",
        "\n",
        "Ahora, supongamos que además dependiendo del día de la semana se puede recibir un descuento\n",
        "adicional acumulable. Es decir, si se recibió un descuento del 10 % según el ítem y la sede y la compra\n",
        "se realiza un lunes, el descuento total será un 20 % . Escribir un programa en el que la persona pueda\n",
        "ingresar el día de la semana, el item a comprar y la sede del local. Luego, informar el descuento total\n",
        "a recibir. Utilizar la siguiente tabla de descuentos:\n",
        "\n",
        "                  Lunes Miércoles Jueves\n",
        "        Descuento  10%     8%       5%"
      ],
      "metadata": {
        "id": "Pr3kJD_gkbtU"
      }
    },
    {
      "cell_type": "code",
      "source": [
        "item = input(\"Ingrese el item Z (Zapatillas), R (Remera) o P (Pantalón): \")\n",
        "item = item.upper()\n",
        "if item == 'Z' or item == 'R' or item == 'P':\n",
        "  sede = input(\"Ingrese la sede R (Rosario), F (Funes) o L (Roldán): \")\n",
        "  sede = sede.upper()\n",
        "  if sede == 'R' or sede == 'F' or sede == 'L':\n",
        "    dia = input(\"Ingrese el dia que realizo la compra L (Lunes), M (Martes), X (Miercoles), J (Jueves), V (Viernes), S (Sábado), D (Domingo): \")\n",
        "    dia = dia.upper()\n",
        "    if dia == \"L\" or dia == \"M\" or dia == \"X\" or dia == \"J\" or dia == \"V\" or dia == \"S\" or dia == \"D\":\n",
        "      if (sede == \"R\"):\n",
        "        if dia == \"L\":\n",
        "          if(item == \"Z\"):\n",
        "            print(\"Se aplica un descuento del 40%\")\n",
        "          elif(item == \"R\"):\n",
        "            print(\"Se aplica un descuento del 30%\")\n",
        "          elif(item == \"P\"):\n",
        "            print(\"Se aplica un descuento del 20%\")\n",
        "        elif dia == \"X\":\n",
        "          if(item == \"Z\"):\n",
        "            print(\"Se aplica un descuento del 38%\")\n",
        "          elif(item == \"R\"):\n",
        "            print(\"Se aplica un descuento del 28%\")\n",
        "          elif(item == \"P\"):\n",
        "            print(\"Se aplica un descuento del 18%\")\n",
        "        elif dia == \"J\":\n",
        "          if(item == \"Z\"):\n",
        "            print(\"Se aplica un descuento del 35%\")\n",
        "          elif(item == \"R\"):\n",
        "            print(\"Se aplica un descuento del 25%\")\n",
        "          elif(item == \"P\"):\n",
        "            print(\"Se aplica un descuento del 15%\")\n",
        "        else:\n",
        "          if(item == \"Z\"):\n",
        "            print(\"Se aplica un descuento del 30%\")\n",
        "          elif(item == \"R\"):\n",
        "            print(\"Se aplica un descuento del 20%\")\n",
        "          elif(item == \"P\"):\n",
        "            print(\"Se aplica un descuento del 10%\")\n",
        "      \n",
        "      elif (sede == \"F\"):\n",
        "        if dia == \"L\":\n",
        "          if(item == \"Z\"):\n",
        "            print(\"Se aplica un descuento del 50%\")\n",
        "          elif(item == \"R\"):\n",
        "            print(\"Se aplica un descuento del 40%\")\n",
        "          elif(item == \"P\"):\n",
        "            print(\"Se aplica un descuento del 15%\")\n",
        "        elif dia == \"X\":\n",
        "          if(item == \"Z\"):\n",
        "            print(\"Se aplica un descuento del 48%\")\n",
        "          elif(item == \"R\"):\n",
        "            print(\"Se aplica un descuento del 38%\")\n",
        "          elif(item == \"P\"):\n",
        "            print(\"Se aplica un descuento del 13%\")\n",
        "        elif dia == \"J\":\n",
        "          if(item == \"Z\"):\n",
        "            print(\"Se aplica un descuento del 45%\")\n",
        "          elif(item == \"R\"):\n",
        "            print(\"Se aplica un descuento del 35%\")\n",
        "          elif(item == \"P\"):\n",
        "            print(\"Se aplica un descuento del 10%\")\n",
        "        else:\n",
        "          if(item == \"Z\"):\n",
        "            print(\"Se aplica un descuento del 40%\")\n",
        "          elif(item == \"R\"):\n",
        "            print(\"Se aplica un descuento del 30%\")\n",
        "          elif(item == \"P\"):\n",
        "            print(\"Se aplica un descuento del 5%\")\n",
        "  \n",
        "      elif (sede == \"L\"):\n",
        "        if dia == \"L\":\n",
        "          if(item == \"Z\"):\n",
        "            print(\"Se aplica un descuento del 35%\")\n",
        "          elif(item == \"R\"):\n",
        "            print(\"Se aplica un descuento del 25%\")\n",
        "          elif(item == \"P\"):\n",
        "            print(\"Se aplica un descuento del 30%\")\n",
        "        elif dia == \"X\":\n",
        "          if(item == \"Z\"):\n",
        "            print(\"Se aplica un descuento del 33%\")\n",
        "          elif(item == \"R\"):\n",
        "            print(\"Se aplica un descuento del 23%\")\n",
        "          elif(item == \"P\"):\n",
        "            print(\"Se aplica un descuento del 28%\")\n",
        "        elif dia == \"J\":\n",
        "          if(item == \"Z\"):\n",
        "            print(\"Se aplica un descuento del 30%\")\n",
        "          elif(item == \"R\"):\n",
        "            print(\"Se aplica un descuento del 20%\")\n",
        "          elif(item == \"P\"):\n",
        "            print(\"Se aplica un descuento del 25%\")\n",
        "        else:\n",
        "          if(item == \"Z\"):\n",
        "            print(\"Se aplica un descuento del 25%\")\n",
        "          elif(item == \"R\"):\n",
        "            print(\"Se aplica un descuento del 15%\")\n",
        "          elif(item == \"P\"):\n",
        "            print(\"Se aplica un descuento del 20%\")\n",
        "    else: \n",
        "      print(\"No se ingresó una letra válida correspondiente al día\")\n",
        "  else:\n",
        "    print(\"No ingresó correctamente la letra para identificar la sede\")\n",
        "else:\n",
        "  print(\"No ingresó correctamente la letra para identificar el ítem\")"
      ],
      "metadata": {
        "id": "uaMWO_OalIt5"
      },
      "execution_count": null,
      "outputs": []
    }
  ]
}